{
  "nbformat": 4,
  "nbformat_minor": 0,
  "metadata": {
    "colab": {
      "name": "NewClassifierComparisons.ipynb",
      "provenance": [],
      "collapsed_sections": [],
      "authorship_tag": "ABX9TyOyT07L+9kKe8KVC/c/QnFg",
      "include_colab_link": true
    },
    "kernelspec": {
      "name": "python3",
      "display_name": "Python 3"
    },
    "language_info": {
      "name": "python"
    }
  },
  "cells": [
    {
      "cell_type": "markdown",
      "metadata": {
        "id": "view-in-github",
        "colab_type": "text"
      },
      "source": [
        "<a href=\"https://colab.research.google.com/github/ttafa/Rock-Paper-Scissors/blob/master/NewClassifierComparisons.ipynb\" target=\"_parent\"><img src=\"https://colab.research.google.com/assets/colab-badge.svg\" alt=\"Open In Colab\"/></a>"
      ]
    },
    {
      "cell_type": "markdown",
      "source": [
        "# Import the required libraries"
      ],
      "metadata": {
        "id": "7HqTm-fHs5eK"
      }
    },
    {
      "cell_type": "code",
      "execution_count": 70,
      "metadata": {
        "colab": {
          "base_uri": "https://localhost:8080/"
        },
        "id": "HgTbhkRjQTHn",
        "outputId": "6f9b1a24-75fc-47d3-a136-e770cba5f19a"
      },
      "outputs": [
        {
          "output_type": "stream",
          "name": "stdout",
          "text": [
            "[nltk_data] Downloading package stopwords to /root/nltk_data...\n",
            "[nltk_data]   Package stopwords is already up-to-date!\n",
            "[nltk_data] Downloading package punkt to /root/nltk_data...\n",
            "[nltk_data]   Package punkt is already up-to-date!\n",
            "[nltk_data] Downloading package wordnet to /root/nltk_data...\n",
            "[nltk_data]   Package wordnet is already up-to-date!\n"
          ]
        }
      ],
      "source": [
        "\n",
        "\n",
        "import pandas as pd\n",
        "import numpy as np\n",
        "import re\n",
        "import string\n",
        "from nltk.corpus import stopwords\n",
        "from nltk.tokenize import word_tokenize\n",
        "from sklearn.feature_extraction.text import TfidfVectorizer, CountVectorizer\n",
        "from sklearn.model_selection import train_test_split\n",
        "from nltk.stem import PorterStemmer\n",
        "from nltk.stem import WordNetLemmatizer\n",
        "\n",
        "import seaborn as sns\n",
        "import matplotlib.pyplot as plt\n",
        "\n",
        "# Machine Learning Libraries\n",
        "from sklearn.metrics import accuracy_score, f1_score, confusion_matrix, precision_score, recall_score, classification_report, ConfusionMatrixDisplay, log_loss\n",
        "from sklearn.naive_bayes import MultinomialNB\n",
        "from sklearn.linear_model import LogisticRegression\n",
        "from sklearn.neighbors import KNeighborsClassifier\n",
        "from sklearn.svm import SVC, LinearSVC, NuSVC\n",
        "from sklearn.tree import DecisionTreeClassifier\n",
        "from sklearn.ensemble import RandomForestClassifier, AdaBoostClassifier, GradientBoostingClassifier\n",
        "from sklearn.naive_bayes import GaussianNB\n",
        "from sklearn.discriminant_analysis import LinearDiscriminantAnalysis\n",
        "from sklearn.discriminant_analysis import QuadraticDiscriminantAnalysis\n",
        "\n",
        "\n",
        "import nltk\n",
        "nltk.download('stopwords')\n",
        "nltk.download('punkt')\n",
        "nltk.download('wordnet')\n",
        "\n",
        "\n",
        "from wordcloud import WordCloud\n",
        "import matplotlib.pyplot as plt\n",
        "\n",
        "\n",
        "# Global Parameters\n",
        "stop_words = set(stopwords.words('english'))"
      ]
    },
    {
      "cell_type": "markdown",
      "source": [
        "#Experiment configuration options\n",
        "\n",
        "####This will allows setting of the normalization and vectorizing methods, and will also allow setting a threshold for the number of features used and the size of the corpus dataset\n"
      ],
      "metadata": {
        "id": "oy96KSwHqx5W"
      }
    },
    {
      "cell_type": "code",
      "source": [
        "\n",
        "\n",
        "#vectorizing methods\n",
        "tfidfOn = True\n",
        "bowOn = False\n",
        "\n",
        "#normalization method\n",
        "stemmingOn = False\n",
        "lemmantizeOn = False\n",
        "\n",
        "#number of features \n",
        "featurecount ='all'\n",
        "\n",
        "\n"
      ],
      "metadata": {
        "id": "yawPNuvuSseL"
      },
      "execution_count": 71,
      "outputs": []
    },
    {
      "cell_type": "markdown",
      "source": [
        "# Helper functions\n"
      ],
      "metadata": {
        "id": "0vmY0o85qmdW"
      }
    },
    {
      "cell_type": "code",
      "source": [
        "\n",
        "\n",
        "def load_dataset(filename, cols):\n",
        "    dataset = pd.read_csv(filename, encoding='latin-1', usecols=cols) \n",
        "    return dataset\n",
        "\n",
        "def remove_unwanted_cols(dataset, cols):\n",
        "    for col in cols:\n",
        "        del dataset[col]\n",
        "    return dataset\n",
        "\n",
        "def remove_unwanted_cols(dataset, cols):\n",
        "    for col in cols:\n",
        "        del dataset[col]\n",
        "    return dataset\n",
        "\n",
        "def getsentimentlabel(sentival):\n",
        "    \n",
        "    if sentival > 0:\n",
        "        return \"Positive\"\n",
        "    elif sentival < 0:\n",
        "        return \"Negative\"\n",
        "    else:\n",
        "        return \"Neutral\"\n",
        "\n",
        "#vectorizing method\n",
        "def getVecMethod():\n",
        "\n",
        "  if tfidfOn == True:\n",
        "    return \"(TF-IDF)\"\n",
        "\n",
        "  elif bowOn == True:\n",
        "    return \"(BOW)\"\n",
        "\n",
        "  else:\n",
        "    return \"(Not specified)\"\n",
        "\n",
        "#normalization method\n",
        "def getNormMethod():\n",
        "\n",
        "  if stemmingOn == True:\n",
        "    return \"(Stemming) - ({} features)\".format(featurecount)\n",
        "\n",
        "  elif lemmantizeOn == True:\n",
        "    return \"(Lemmantize)- ({} features)\".format(featurecount)\n",
        "\n",
        "  else:\n",
        "    return \"(No normalisation)- ({} features)\".format(featurecount)\n"
      ],
      "metadata": {
        "id": "5Xngq9-KS6HM"
      },
      "execution_count": 72,
      "outputs": []
    },
    {
      "cell_type": "markdown",
      "source": [
        "# Preprocessing function"
      ],
      "metadata": {
        "id": "9uIt3kw-qqoD"
      }
    },
    {
      "cell_type": "code",
      "source": [
        "\n",
        "def preprocess_text(tweet, flag_stem=False, flag_lem=False):\n",
        "    tweet = tweet.lower()\n",
        "    # Remove urls\n",
        "    tweet = re.sub(r\"http\\S+|www\\S+|https\\S+\", '', tweet, flags=re.MULTILINE)\n",
        "    # Remove user @ references and '#' from tweet\n",
        "    tweet = re.sub(r'\\@\\w+|\\#','', tweet)\n",
        "    # Remove punctuations\n",
        "    tweet = tweet.translate(str.maketrans('', '', string.punctuation))\n",
        "    # Remove RT\n",
        "    tweet = re.sub(r'\\brt\\b', '', tweet)\n",
        "    # Remove ascii characters\n",
        "    string_encode = tweet.encode(\"ascii\", \"ignore\")\n",
        "    tweet = string_encode.decode()\n",
        "\n",
        "    # Remove punctuations\n",
        "    tweet = tweet.translate(str.maketrans('', '', string.punctuation))\n",
        "    # Remove stopwords\n",
        "    tweet_tokens = word_tokenize(tweet)\n",
        "    tokenized_tweet = [w for w in tweet_tokens if not w in stop_words]\n",
        "    \n",
        "    if flag_stem == True:\n",
        "      #stemming\n",
        "      ps = PorterStemmer()\n",
        "      tokenized_tweet = [ps.stem(w) for w in tokenized_tweet]\n",
        "\n",
        "    if flag_lem == True:\n",
        "      #lammentizing\n",
        "      lemmatizer = WordNetLemmatizer()\n",
        "      tokenized_tweet = [lemmatizer.lemmatize(w, pos='a') for w in tokenized_tweet]\n",
        "    \n",
        "    return \" \".join(tokenized_tweet)"
      ],
      "metadata": {
        "id": "BEr9L3TTTEjt"
      },
      "execution_count": 73,
      "outputs": []
    },
    {
      "cell_type": "code",
      "source": [
        ""
      ],
      "metadata": {
        "id": "usC20NfrTO60"
      },
      "execution_count": 73,
      "outputs": []
    },
    {
      "cell_type": "markdown",
      "source": [
        "#Define the classifiers to be used"
      ],
      "metadata": {
        "id": "lrBxKgkAqZa_"
      }
    },
    {
      "cell_type": "code",
      "source": [
        "\n",
        "\n",
        "classifiers = [\n",
        "    MultinomialNB(),\n",
        "    LogisticRegression(solver='lbfgs'),\n",
        "    SVC(kernel='linear', probability=True),\n",
        "    KNeighborsClassifier(n_neighbors=3),\n",
        "    DecisionTreeClassifier()\n",
        "    \n",
        "    ]\n",
        "  \n",
        "\n"
      ],
      "metadata": {
        "id": "rBkrl1P0SB0i"
      },
      "execution_count": 74,
      "outputs": []
    },
    {
      "cell_type": "markdown",
      "source": [
        "# Load dataset\n",
        "\n",
        "### We also remove unwanted columns from dataset"
      ],
      "metadata": {
        "id": "gVHaqhUuqPhb"
      }
    },
    {
      "cell_type": "code",
      "source": [
        "\n",
        "#id,text,sscore,SentimentScore\n",
        "dataset1 = load_dataset(\"corona_tweets_2.5K_Ready.csv\", ['text','SentimentScore'])\n",
        "dataset1.tweet=dataset1.text.astype(str)\n",
        "\n",
        "\n",
        "\n",
        "#p_filter = dataset[\"SentimentScore\"]==0\n",
        "dataset = dataset1[dataset1[\"SentimentScore\"] != 2]  \n",
        "# filtering data\n",
        "#dataset = dataset1.where(p_filter, inplace = True)\n",
        "  \n",
        "# display\n",
        "\n",
        "\n",
        "pd.set_option('display.max_colwidth', None)\n",
        "#dataset.head()\n",
        "dataset.shape\n"
      ],
      "metadata": {
        "colab": {
          "base_uri": "https://localhost:8080/"
        },
        "id": "Z4l6CuDbTcTS",
        "outputId": "791eccc6-6511-4783-d203-698792991524"
      },
      "execution_count": 75,
      "outputs": [
        {
          "output_type": "stream",
          "name": "stderr",
          "text": [
            "/usr/local/lib/python3.7/dist-packages/ipykernel_launcher.py:4: UserWarning: Pandas doesn't allow columns to be created via a new attribute name - see https://pandas.pydata.org/pandas-docs/stable/indexing.html#attribute-access\n",
            "  after removing the cwd from sys.path.\n"
          ]
        },
        {
          "output_type": "execute_result",
          "data": {
            "text/plain": [
              "(1763, 2)"
            ]
          },
          "metadata": {},
          "execution_count": 75
        }
      ]
    },
    {
      "cell_type": "markdown",
      "source": [
        "# Preprocess the Tweets\n"
      ],
      "metadata": {
        "id": "qGvRPgi-qHGd"
      }
    },
    {
      "cell_type": "code",
      "source": [
        "\n",
        "\n",
        "dataset.text = dataset['text'].apply(lambda tweet_text: preprocess_text(tweet_text, flag_stem=stemmingOn, flag_lem=lemmantizeOn))\n",
        "\n",
        "print(\"All data shape: {}\".format(dataset.shape))\n",
        "pd.set_option('display.max_colwidth', None)\n",
        "dataset.head(6000)"
      ],
      "metadata": {
        "colab": {
          "base_uri": "https://localhost:8080/",
          "height": 783
        },
        "id": "7Euph1F7TuiX",
        "outputId": "543835cc-81a6-4163-e264-4f9456ae2ffc"
      },
      "execution_count": 76,
      "outputs": [
        {
          "output_type": "stream",
          "name": "stdout",
          "text": [
            "All data shape: (1763, 2)\n"
          ]
        },
        {
          "output_type": "stream",
          "name": "stderr",
          "text": [
            "/usr/local/lib/python3.7/dist-packages/pandas/core/generic.py:5516: SettingWithCopyWarning: \n",
            "A value is trying to be set on a copy of a slice from a DataFrame.\n",
            "Try using .loc[row_indexer,col_indexer] = value instead\n",
            "\n",
            "See the caveats in the documentation: https://pandas.pydata.org/pandas-docs/stable/user_guide/indexing.html#returning-a-view-versus-a-copy\n",
            "  self[name] = value\n"
          ]
        },
        {
          "output_type": "execute_result",
          "data": {
            "text/plain": [
              "                                                                                                                                                                                                                   text  \\\n",
              "0                                                                                                                  imagine cease amp desisting melee letting people play favorite game middle global pandemic freemelee   \n",
              "1                                                                                                                                                     live little town yeah want covid shit go away life go back normal   \n",
              "2                                                                               paris beautiful avenue champselysees turned bright red christmas season sunday france remains lockdown slow spread coronavirus also see   \n",
              "3                                                                                                     rachel maddow delivered emotional monologue partner fell ill covid19 wont necessarily itll person care world bear   \n",
              "6                                                                                 exo xiumin recently started final vacation military return due militarys coronavirus vacation policy carry military status december 6   \n",
              "...                                                                                                                                                                                                                 ...   \n",
              "2541                                                                                             goodnight got quarantine buzz cut concert junkies r verge death bitches make earrings people tht sew midnight snackers   \n",
              "2544                                                                                                             taken analyzing peoples eyes photos vs mouths adjudge legitimacy clearly covid affected way whatsoever   \n",
              "2546  rymanhealthcare 1h21 result rads rescue rym reported weak 1h21 result underlying earnings annuity ebitda significantly vs pcp covid19 related restrictions weighed activity cash recovery capex particularly weak   \n",
              "2547                                                                                         seems perception many people toronto covid19 doesnt go effect 1201 rather lockdown explains shop drop attitude today malls   \n",
              "2548                                                     national emergency operations centre neoc confirmed additional tests two sailors suspected covid19 still confirm whether samoa recorded first coronavirus case   \n",
              "\n",
              "      SentimentScore  \n",
              "0                  1  \n",
              "1                  0  \n",
              "2                  1  \n",
              "3                  0  \n",
              "6                  0  \n",
              "...              ...  \n",
              "2541               1  \n",
              "2544               1  \n",
              "2546               0  \n",
              "2547               1  \n",
              "2548               1  \n",
              "\n",
              "[1763 rows x 2 columns]"
            ],
            "text/html": [
              "\n",
              "  <div id=\"df-6d4cb492-ef17-4b07-b04a-8672a9b1d67e\">\n",
              "    <div class=\"colab-df-container\">\n",
              "      <div>\n",
              "<style scoped>\n",
              "    .dataframe tbody tr th:only-of-type {\n",
              "        vertical-align: middle;\n",
              "    }\n",
              "\n",
              "    .dataframe tbody tr th {\n",
              "        vertical-align: top;\n",
              "    }\n",
              "\n",
              "    .dataframe thead th {\n",
              "        text-align: right;\n",
              "    }\n",
              "</style>\n",
              "<table border=\"1\" class=\"dataframe\">\n",
              "  <thead>\n",
              "    <tr style=\"text-align: right;\">\n",
              "      <th></th>\n",
              "      <th>text</th>\n",
              "      <th>SentimentScore</th>\n",
              "    </tr>\n",
              "  </thead>\n",
              "  <tbody>\n",
              "    <tr>\n",
              "      <th>0</th>\n",
              "      <td>imagine cease amp desisting melee letting people play favorite game middle global pandemic freemelee</td>\n",
              "      <td>1</td>\n",
              "    </tr>\n",
              "    <tr>\n",
              "      <th>1</th>\n",
              "      <td>live little town yeah want covid shit go away life go back normal</td>\n",
              "      <td>0</td>\n",
              "    </tr>\n",
              "    <tr>\n",
              "      <th>2</th>\n",
              "      <td>paris beautiful avenue champselysees turned bright red christmas season sunday france remains lockdown slow spread coronavirus also see</td>\n",
              "      <td>1</td>\n",
              "    </tr>\n",
              "    <tr>\n",
              "      <th>3</th>\n",
              "      <td>rachel maddow delivered emotional monologue partner fell ill covid19 wont necessarily itll person care world bear</td>\n",
              "      <td>0</td>\n",
              "    </tr>\n",
              "    <tr>\n",
              "      <th>6</th>\n",
              "      <td>exo xiumin recently started final vacation military return due militarys coronavirus vacation policy carry military status december 6</td>\n",
              "      <td>0</td>\n",
              "    </tr>\n",
              "    <tr>\n",
              "      <th>...</th>\n",
              "      <td>...</td>\n",
              "      <td>...</td>\n",
              "    </tr>\n",
              "    <tr>\n",
              "      <th>2541</th>\n",
              "      <td>goodnight got quarantine buzz cut concert junkies r verge death bitches make earrings people tht sew midnight snackers</td>\n",
              "      <td>1</td>\n",
              "    </tr>\n",
              "    <tr>\n",
              "      <th>2544</th>\n",
              "      <td>taken analyzing peoples eyes photos vs mouths adjudge legitimacy clearly covid affected way whatsoever</td>\n",
              "      <td>1</td>\n",
              "    </tr>\n",
              "    <tr>\n",
              "      <th>2546</th>\n",
              "      <td>rymanhealthcare 1h21 result rads rescue rym reported weak 1h21 result underlying earnings annuity ebitda significantly vs pcp covid19 related restrictions weighed activity cash recovery capex particularly weak</td>\n",
              "      <td>0</td>\n",
              "    </tr>\n",
              "    <tr>\n",
              "      <th>2547</th>\n",
              "      <td>seems perception many people toronto covid19 doesnt go effect 1201 rather lockdown explains shop drop attitude today malls</td>\n",
              "      <td>1</td>\n",
              "    </tr>\n",
              "    <tr>\n",
              "      <th>2548</th>\n",
              "      <td>national emergency operations centre neoc confirmed additional tests two sailors suspected covid19 still confirm whether samoa recorded first coronavirus case</td>\n",
              "      <td>1</td>\n",
              "    </tr>\n",
              "  </tbody>\n",
              "</table>\n",
              "<p>1763 rows × 2 columns</p>\n",
              "</div>\n",
              "      <button class=\"colab-df-convert\" onclick=\"convertToInteractive('df-6d4cb492-ef17-4b07-b04a-8672a9b1d67e')\"\n",
              "              title=\"Convert this dataframe to an interactive table.\"\n",
              "              style=\"display:none;\">\n",
              "        \n",
              "  <svg xmlns=\"http://www.w3.org/2000/svg\" height=\"24px\"viewBox=\"0 0 24 24\"\n",
              "       width=\"24px\">\n",
              "    <path d=\"M0 0h24v24H0V0z\" fill=\"none\"/>\n",
              "    <path d=\"M18.56 5.44l.94 2.06.94-2.06 2.06-.94-2.06-.94-.94-2.06-.94 2.06-2.06.94zm-11 1L8.5 8.5l.94-2.06 2.06-.94-2.06-.94L8.5 2.5l-.94 2.06-2.06.94zm10 10l.94 2.06.94-2.06 2.06-.94-2.06-.94-.94-2.06-.94 2.06-2.06.94z\"/><path d=\"M17.41 7.96l-1.37-1.37c-.4-.4-.92-.59-1.43-.59-.52 0-1.04.2-1.43.59L10.3 9.45l-7.72 7.72c-.78.78-.78 2.05 0 2.83L4 21.41c.39.39.9.59 1.41.59.51 0 1.02-.2 1.41-.59l7.78-7.78 2.81-2.81c.8-.78.8-2.07 0-2.86zM5.41 20L4 18.59l7.72-7.72 1.47 1.35L5.41 20z\"/>\n",
              "  </svg>\n",
              "      </button>\n",
              "      \n",
              "  <style>\n",
              "    .colab-df-container {\n",
              "      display:flex;\n",
              "      flex-wrap:wrap;\n",
              "      gap: 12px;\n",
              "    }\n",
              "\n",
              "    .colab-df-convert {\n",
              "      background-color: #E8F0FE;\n",
              "      border: none;\n",
              "      border-radius: 50%;\n",
              "      cursor: pointer;\n",
              "      display: none;\n",
              "      fill: #1967D2;\n",
              "      height: 32px;\n",
              "      padding: 0 0 0 0;\n",
              "      width: 32px;\n",
              "    }\n",
              "\n",
              "    .colab-df-convert:hover {\n",
              "      background-color: #E2EBFA;\n",
              "      box-shadow: 0px 1px 2px rgba(60, 64, 67, 0.3), 0px 1px 3px 1px rgba(60, 64, 67, 0.15);\n",
              "      fill: #174EA6;\n",
              "    }\n",
              "\n",
              "    [theme=dark] .colab-df-convert {\n",
              "      background-color: #3B4455;\n",
              "      fill: #D2E3FC;\n",
              "    }\n",
              "\n",
              "    [theme=dark] .colab-df-convert:hover {\n",
              "      background-color: #434B5C;\n",
              "      box-shadow: 0px 1px 3px 1px rgba(0, 0, 0, 0.15);\n",
              "      filter: drop-shadow(0px 1px 2px rgba(0, 0, 0, 0.3));\n",
              "      fill: #FFFFFF;\n",
              "    }\n",
              "  </style>\n",
              "\n",
              "      <script>\n",
              "        const buttonEl =\n",
              "          document.querySelector('#df-6d4cb492-ef17-4b07-b04a-8672a9b1d67e button.colab-df-convert');\n",
              "        buttonEl.style.display =\n",
              "          google.colab.kernel.accessAllowed ? 'block' : 'none';\n",
              "\n",
              "        async function convertToInteractive(key) {\n",
              "          const element = document.querySelector('#df-6d4cb492-ef17-4b07-b04a-8672a9b1d67e');\n",
              "          const dataTable =\n",
              "            await google.colab.kernel.invokeFunction('convertToInteractive',\n",
              "                                                     [key], {});\n",
              "          if (!dataTable) return;\n",
              "\n",
              "          const docLinkHtml = 'Like what you see? Visit the ' +\n",
              "            '<a target=\"_blank\" href=https://colab.research.google.com/notebooks/data_table.ipynb>data table notebook</a>'\n",
              "            + ' to learn more about interactive tables.';\n",
              "          element.innerHTML = '';\n",
              "          dataTable['output_type'] = 'display_data';\n",
              "          await google.colab.output.renderOutput(dataTable, element);\n",
              "          const docLink = document.createElement('div');\n",
              "          docLink.innerHTML = docLinkHtml;\n",
              "          element.appendChild(docLink);\n",
              "        }\n",
              "      </script>\n",
              "    </div>\n",
              "  </div>\n",
              "  "
            ]
          },
          "metadata": {},
          "execution_count": 76
        }
      ]
    },
    {
      "cell_type": "code",
      "source": [
        "dataset.SentimentScore.value_counts()"
      ],
      "metadata": {
        "colab": {
          "base_uri": "https://localhost:8080/"
        },
        "id": "DQ1BSzILT0wS",
        "outputId": "d83bfea5-bab1-49b2-d692-804c287911bd"
      },
      "execution_count": 77,
      "outputs": [
        {
          "output_type": "execute_result",
          "data": {
            "text/plain": [
              "1    954\n",
              "0    809\n",
              "Name: SentimentScore, dtype: int64"
            ]
          },
          "metadata": {},
          "execution_count": 77
        }
      ]
    },
    {
      "cell_type": "markdown",
      "source": [
        "# Preparing for Training\n",
        "\n",
        "####Before training, and even vectorizing, let's split our data into training and testing sets. It's important to do this before doing anything with the data so we have a fresh test set.\n",
        "\n",
        "####Our test size is 0.2, or 20%. This means that X_test and y_test contains 20% of our data which we reserve for testing."
      ],
      "metadata": {
        "id": "BPgOUkn6p5l5"
      }
    },
    {
      "cell_type": "code",
      "source": [
        "\n",
        "\n",
        "\n",
        "\n",
        "X = dataset.text\n",
        "y = dataset.SentimentScore\n",
        "\n",
        "X_train, X_test, y_train, y_test = train_test_split(X, y, test_size=0.2, random_state=30)"
      ],
      "metadata": {
        "id": "tu4NOCxNUBRC"
      },
      "execution_count": 78,
      "outputs": []
    },
    {
      "cell_type": "markdown",
      "source": [
        "# Vectorizing Training Data\n",
        "\n",
        "###Vectorizing Data: Vectorizing is the process to convert tokens to numbers. It is an important step because the machine learning algorithm works with numbers and not text. We implemented vectorization using tf-idf. There are other techniques as well, such as Bag of Words and N-grams.\n",
        "\n",
        "####Let's now fit the vectorizer on the training set only and perform the vectorization. It is important to not fit the vectorizer on all of the data since we want a clean test set for evaluating performance. Fitting the vectorizer on everything would result in data leakage, causing unreliable results since the vectorizer shouldn't know about future data.\n",
        "\n",
        "#####We can fit the vectorizer and transform X_train in one step:"
      ],
      "metadata": {
        "id": "ninjGNL8pPaS"
      }
    },
    {
      "cell_type": "code",
      "source": [
        "\n",
        "\n",
        "if bowOn == True:\n",
        "  vect = CountVectorizer( binary=True)#, max_features=featurecount)\n",
        "\n",
        "elif tfidfOn == True:\n",
        "  vect = TfidfVectorizer(binary=True, ngram_range=(1,1))#, max_features=featurecount) \n",
        "\n",
        "else:\n",
        "  print(\"Unable to proceed as no vecorization configuration parameters set\")\n",
        "  exit(0)\n",
        "\n",
        "\n",
        "X_train_vect = vect.fit_transform(X_train)\n",
        "\n",
        "print(X_train_vect.shape)\n",
        "print(vect.vocabulary_)\n",
        "print(vect.get_feature_names_out().shape)\n"
      ],
      "metadata": {
        "colab": {
          "base_uri": "https://localhost:8080/"
        },
        "id": "icFMoYFUULxK",
        "outputId": "d9e753cd-644a-469c-dbb7-2191f4154ae4"
      },
      "execution_count": 79,
      "outputs": [
        {
          "output_type": "stream",
          "name": "stdout",
          "text": [
            "(1410, 5016)\n",
            "{'every': 1583, 'performance': 3238, 'pandemic': 3168, 'shown': 3996, 'beautiful': 528, 'korea': 2477, 'gyeongbokgung': 2025, 'national': 2945, 'museum': 2919, 'han': 2036, 'river': 3778, 'hyundai': 2210, 'music': 2921, 'library': 2571, 'vinyl': 4745, 'amp': 335, 'plastic': 3308, 'jamsil': 2391, 'olympic': 3068, 'stadium': 4144, 'etc': 1568, 'name': 2935, 'locations': 2619, 'koreas': 2479, 'greatest': 1985, 'ambassadors': 323, 'made': 2685, 'best': 562, 'memories': 2783, 'lol': 2632, 'thats': 4416, 'crazy': 1116, 'please': 3320, 'say': 3858, 'prayer': 3374, 'son': 4086, 'whose': 4889, 'covid': 1087, 'symptoms': 4332, 'gotten': 1961, 'worse': 4949, 'tonight': 4491, 'covid19': 1088, 'covidsymptoms': 1107, 'dont': 1399, 'go': 1942, 'restaurants': 3724, 'unlike': 4671, 'governor': 1968, 'new': 2981, 'jersey': 2399, 'private': 3426, 'chef': 840, 'miss': 2848, 'really': 3582, 'feel': 1719, 'like': 2585, 'took': 4494, 'living': 2608, 'close': 902, 'granted': 1980, 'wan': 4794, 'na': 2932, 'see': 3899, 'live': 2605, 'local': 2616, 'shows': 3997, 'hasnt': 2059, 'hard': 2052, 'ass': 429, 'wasnt': 4817, 'trying': 4581, 'leave': 2540, 'house': 2175, 'started': 4163, 'actually': 219, 'going': 1948, 'make': 2703, 'conscious': 1000, 'effort': 1476, 'year': 4982, 'starting': 4164, 'birthday': 589, 'party': 3190, 'shit': 3974, 'shut': 4001, 'literally': 2603, 'week': 4843, 'bday': 522, 'yall': 4976, 'listen': 2601, 'making': 2705, 'first': 1758, 'thanksgiving': 4412, 'disease': 1351, 'spreading': 4136, 'jokes': 2416, 'native': 2950, 'people': 3228, 'repeatedly': 3668, 'told': 4485, 'nonnatives': 3008, 'communities': 951, 'amongst': 334, 'impacted': 2254, 'hospitals': 2165, '50': 121, 'underfunded': 4636, 'genocide': 1910, 'ongoing': 3076, 'antivaxxer': 363, 'someone': 4083, 'isnt': 2365, 'time': 4466, 'hash': 2057, 'concern': 977, 'convinces': 1041, 'gullible': 2022, 'vaccines': 4716, 'bad': 495, 'report': 3674, 'also': 316, 'features': 1713, 'nationwide': 2949, 'survey': 4310, 'grandfamilies': 1976, 'revealed': 3745, 'heightened': 2093, 'needs': 2970, 'related': 3640, 'housing': 2178, 'food': 1798, 'insecurity': 2320, 'alternative': 317, 'care': 751, 'plans': 3306, 'totally': 4503, 'logical': 2631, 'thing': 4432, 'many': 2721, 'vote': 4771, 'never': 2980, 'rallies': 3553, 'especially': 1561, 'foolish': 1799, 'think': 4435, 'meaningless': 2760, 'pic': 3276, 'rally': 3554, 'matters': 2751, 'didnt': 1316, 'let': 2560, 'happen': 2045, 'wake': 4788, 'figure': 1737, 'planned': 3304, 'real': 3574, 'understand': 4641, 'done': 1395, 'pcr': 3217, 'tests': 4401, 'homework': 2147, 'haltmasspcrtesting': 2035, 'years': 4984, 'ago': 267, 'read': 3570, 'story': 4212, 'young': 4998, 'officer': 3054, 'telling': 4381, 'lincoln': 2593, 'civil': 878, 'war': 4802, 'win': 4899, 'god': 1944, 'side': 4008, 'responded': 3715, 'lets': 2561, 'hope': 2152, 'gods': 1946, 'still': 4200, 'reacting': 3568, 'overwhelmedhospital': 3143, 'problem': 3436, 'add': 223, 'beds': 534, 'worthless': 4955, 'without': 4919, 'healthcare': 2077, 'workers': 4935, 'already': 312, 'burning': 683, 'ceiling': 798, 'cant': 736, 'massmanufacture': 2745, 'nurses': 3036, 'exo': 1617, 'xiumin': 4971, 'recently': 3591, 'final': 1742, 'vacation': 4711, 'military': 2815, 'return': 3736, 'due': 1433, 'militarys': 2816, 'coronavirus': 1052, 'policy': 3337, 'carry': 762, 'status': 4177, 'december': 1234, 'tanzania': 4352, 'discussed': 1349, 'european': 1572, 'parliament': 3182, 'government': 1966, 'reaction': 3569, 'appalling': 375, 'surprising': 4306, 'recap': 3586, 'thoughts': 4443, 'jeremih': 2398, 'transferred': 4525, 'icu': 2215, 'testing': 4400, 'positive': 3357, 'tmz': 4476, 'reports': 3679, 'sides': 4010, 'fucking': 1859, 'trumps': 4572, 'america': 327, 'normal': 3014, 'would': 4956, 'job': 2406, 'worked': 4933, 'thank': 4410, 'awesome': 480, 'response': 3716, 'rapid': 3557, 'community': 952, 'great': 1983, 'start': 4162, 'last': 2504, 'night': 2995, 'work': 4932, 'kinks': 2464, 'well': 4856, 'working': 4937, 'get': 1918, 'running': 3810, 'stay': 4178, 'tuned': 4588, 'keep': 2440, 'us': 4696, 'covidsafe': 1106, 'ohio': 3061, 'home': 2141, 'state': 4167, 'dewine': 1310, 'strong': 4230, 'caved': 788, 'nut': 3038, 'jobs': 2408, '10': 1, 'pm': 3327, 'curfew': 1162, 'next': 2990, 'weeks': 4848, 'million': 2817, 'cases': 770, 'one': 3071, 'trump': 4568, 'golfs': 1951, 'tell': 4380, 'anyone': 369, 'voted': 4772, 'man': 2710, 'exhibit': 1615, 'kept': 2446, 'medical': 2768, 'supplies': 4282, 'states': 4170, 'evidence': 1591, 'white': 4882, 'withheld': 4917, 'certain': 809, 'soninlaw': 4089, 'purportedly': 3506, 'sneered': 4062, 'york': 4996, 'vindictively': 4744, 'denied': 1279, 'help': 2099, 'resulting': 3729, 'untold': 4679, 'deaths': 1225, 'amid': 331, 'upstate': 4689, 'stores': 4209, 'adjusting': 230, 'black': 596, 'friday': 1846, 'approaches': 386, 'malfunctioning': 2707, 'thackeray': 4409, 'sarkar': 3846, 'dysfunctional': 1443, 'msedl': 2909, 'looting': 2647, 'public': 3489, 'lockdown': 2621, 'average': 472, 'monthly': 2880, 'bill': 582, 'continue': 1026, 'expose': 1639, 'maharashtra': 2691, 'teach': 4365, 'lesson': 2558, 'mvapowerscam': 2927, 'today': 4479, 'bjp': 595, 'govt': 1970, 'asks': 428, '70': 139, 'saal': 3820, 'mein': 2777, 'kya': 2485, 'hua': 2184, 'need': 2967, 'look': 2642, 'vaccination': 4714, 'strategy': 4221, 'answer': 354, 'hospital': 2161, 'doctors': 1381, 'tired': 4474, 'quickly': 3532, 'wont': 4926, 'take': 4342, 'vaccine': 4715, 'know': 2469, 'whats': 4871, 'quick': 3530, 'ingredients': 2309, 'pop': 3350, 'tart': 4354, 'hahaaaaaaa': 2030, 'remember': 3658, 'follow': 1793, 'curfews': 1163, 'defense': 1253, 'human': 2191, 'lives': 2606, 'police': 3335, 'came': 714, 'shot': 3986, 'tear': 4370, 'gassed': 1889, 'beat': 526, 'wests': 4865, 'failure': 1667, 'even': 1576, 'staggering': 4151, 'ht': 2183, 'interesting': 2339, 'eastern': 1453, 'perspective': 3251, 'western': 4864, 'failures': 1668, 'fatigue': 1700, 'exhausted': 1614, 'suspect': 4317, 'lot': 2656, 'decision': 1238, 'absence': 189, 'clear': 891, 'rules': 3807, 'information': 2308, 'guidance': 2017, 'means': 2761, 'action': 213, 'decide': 1235, 'feels': 1722, 'safest': 3829, 'good': 1954, 'leadership': 2530, 'give': 1930, 'break': 636, 'ppl': 3368, 'afraid': 258, 'contact': 1019, 'tracing': 4513, 'could': 1065, 'microchip': 2805, 'way': 4827, 'wouldnt': 4957, 'traceable': 4512, 'got': 1960, 'rid': 3763, 'ur': 4692, 'cell': 800, 'phone': 3269, 'stopped': 4206, 'online': 3077, 'wany': 4801, 'devices': 1308, 'use': 4699, 'creditdebit': 1124, 'cards': 750, 'cash': 772, 'money': 2875, 'bank': 502, 'sell': 3913, 'car': 744, 'rent': 3665, 'place': 3296, 'wcash': 4830, '12': 14, 'orders': 3104, 'ignored': 2231, 'businesses': 686, 'schools': 3875, 'churches': 868, 'must': 2925, 'immediately': 2245, 'open': 3085, 'largest': 2501, 'act': 211, 'disobedience': 1360, 'american': 328, 'history': 2125, 'damn': 1190, 'least': 2539, 'twice': 4599, 'day': 1210, 'news': 2985, 'doesnt': 1386, 'want': 4798, 'far': 1686, 'recovered': 3603, 'died': 1318, 'virus': 4756, 'death': 1224, 'sentence': 3927, 'quarantine': 3521, 'hitting': 2128, 'left': 2544, 'wing': 4903, 'women': 4922, 'opinion': 3089, 'worst': 4952, 'happened': 2046, '2020': 61, 'global': 1937, 'americas': 330, 'governors': 1969, 'forced': 1805, 'fend': 1730, 'find': 1748, 'middle': 2808, 'successfully': 4259, 'maryland': 2732, 'stop': 4205, 'golfing': 1950, 'concede': 975, 'yuhuuuu': 5006, 'finally': 1744, 'welcome': 4853, 'back': 491, 'earlier': 1445, 'lost': 2655, 'lockdowns': 2625, 'guess': 2015, 'surroundings': 4309, 'honestly': 2149, 'kind': 2460, 'shitty': 3976, 'depression': 1286, 'yeah': 4980, 'sucks': 4262, '98': 167, 'die': 1317, 'probability': 3433, 'low': 2662, 'c19': 702, 'cause': 781, 'per': 3231, 'cdc': 793, '94': 164, 'present': 3391, '26': 84, 'comorbidities': 953, 'iow': 2358, 'high': 2113, 'theyd': 4429, 'anyway': 372, 'wear': 4833, 'mask': 2735, 'around': 406, 'morbid': 2884, 'diseases': 1352, 'ordered': 3103, 'gov': 1962, 'larry': 2502, 'hogan': 2130, 'april': 393, 'south': 4104, 'turn': 4593, 'flawed': 1772, 'used': 4700, '24': 73, 'hrs': 2182, '44059': 113, '511': 124, 'reported': 3675, '41024': 110, 'patients': 3205, 'recover': 3602, 'recovery': 3605, 'rate': 3560, '9368': 163, 'positivity': 3358, '518': 125, 'active': 214, '443486': 114, '849596': 153, 'staystrongindia': 4187, 'maskupindia': 2740, 'speaking': 4113, 'gained': 1882, 'knowledge': 2470, 'looks': 2645, 'weve': 4866, 'twitter': 4601, '25m': 83, 'tweets': 4598, '2009': 53, 'travel': 4534, 'fast': 1694, '500m': 123, 'surpass': 4303, 'kelly': 2442, 'irresponsible': 2362, 'exposing': 1641, 'fellow': 1726, 'candidate': 732, 'vp': 4777, 'despite': 1298, 'tested': 4395, 'trust': 4575, 'responsible': 3720, 'senate': 3916, 'staten': 4169, 'island': 2364, 'serious': 3933, 'areas': 397, 'nyc': 3041, 'track': 4514, 'restrictions': 3726, 'cuomo': 1158, 'says': 3860, 'hallo': 2032, 'unroll': 4676, 'asked': 426, 'criticala': 1135, 'negative': 2972, 'test': 4392, 'ticket': 4463, 'freely': 1835, 'socialize': 4071, 'precautionsmany': 3378, 'talk': 4347, 'soon': 4091, 'tyrany': 4610, 'democrat': 1272, 'politicians': 3342, 'much': 2913, 'fed': 1715, 'overreach': 3137, 'bs': 664, 'eating': 1456, 'class': 885, '2030': 64, 'though': 4440, 'raging': 3544, 'dying': 1440, 'alarming': 289, 'health': 2076, 'professionals': 3444, 'urging': 4694, 'americans': 329, 'selfishly': 3911, 'decided': 1236, 'remain': 3653, 'levels': 2567, 'number': 3032, 'hospitalized': 2164, 'increase': 2277, 'la': 2487, 'county': 1077, 'order': 3102, 'modified': 2863, 'restrict': 3725, 'dining': 1327, 'breweries': 644, 'wineries': 4902, 'bars': 507, 'effective': 1472, 'wednesday': 4842, 'november': 3030, '25': 75, '1000': 3, 'officials': 3057, 'fear': 1709, 'toll': 4487, 'arizona': 400, 'rise': 3774, 'check': 836, 'full': 1861, 'article': 415, 'pick': 3277, 'copy': 1048, 'santansunnews': 3845, 'chandler': 820, 'az': 485, 'hey': 2110, 'since': 4025, 'im': 2238, 'comfortable': 935, 'saying': 3859, 'encourage': 1515, 'share': 3955, 'carnegie': 758, 'pittsburgh': 3295, 'directing': 1331, 'staff': 4145, 'lie': 2573, 'sheraden': 3966, 'branch': 633, 'closed': 903, 'member': 2779, 'firstever': 1759, 'winner': 4904, 'latin': 2513, 'female': 1728, 'artist': 416, 'amas': 320, 'dedicated': 1244, 'award': 477, 'immigrant': 2247, 'students': 4238, 'families': 1679, 'antitrump': 362, 'hero': 2107, 'paid': 3161, 'rink': 3772, 'oregon': 3105, 'law': 2522, 'enforcement': 1525, 'recognizes': 3596, 'arrest': 408, 'enforce': 1524, 'education': 1468, 'approach': 385, 'said': 3832, 'three': 4449, 'agencies': 264, 'however': 2179, 'together': 4483, 'following': 1797, 'safer': 3828, 'healthy': 2082, 'matter': 2749, 'protesters': 3474, 'pepper': 3230, 'sprayed': 4133, 'street': 4225, 'past': 3200, 'wild': 4895, 'another': 353, 'grace': 1972, 'kicking': 2451, 'pants': 3172, 'barely': 504, 'keeping': 2441, 'deep': 1245, 'breath': 640, 'taking': 4345, 'anger': 346, 'others': 3114, 'short': 3982, 'fuse': 1875, 'walk': 4789, 'compassion': 958, 'days': 1212, '6746': 134, '121': 16, 'complete': 966, 'delhi': 1263, 'wow': 4959, 'republican': 3684, 'dabo': 1180, 'fan': 1682, 'idiotic': 2226, 'ive': 2378, 'heard': 2084, 'person': 3247, 'position': 3356, 'player': 3312, 'correctly': 1057, 'blue': 608, 'makes': 2704, 'harder': 2053, 'germs': 1917, 'attach': 443, 'inner': 2315, 'absorbs': 191, 'moisture': 2864, 'sad': 3824, 'friends': 1848, 'giving': 1934, 'bc': 521, 'hi': 2111, 'folks': 1792, 'fit': 1763, 'personally': 3249, 'parents': 3179, 'grandparents': 1978, 'chance': 818, 'rf': 3756, 'hearts': 2089, 'fred': 1832, 'sasakamoose': 3849, 'battles': 518, 'indigenousborn': 2289, 'athlete': 439, 'play': 3310, 'nhl': 2992, 'longtime': 2639, 'leader': 2528, 'development': 1307, 'sports': 4131, 'programs': 3448, 'indigenous': 2288, 'children': 849, 'washable': 4812, '3layer': 107, 'fitted': 1764, 'masks': 2739, 'available': 469, 'sizes': 4040, '20': 47, 'supportsmallbusinesses': 4289, 'supportartists': 4285, 'redbubble': 3610, 'staysafe': 4184, 'staysafestayhealthy': 4186, 'giftideas': 1924, 'coolmasks': 1045, 'staysafemaskup': 4185, 'saved': 3856, 'liesyou': 2576, 'fiscally': 1762, 'fur': 1872, 'industry': 2296, 'faces': 1655, 'uncertain': 4630, 'future': 1876, 'hello': 2096, 'rude': 3803, 'enough': 1531, 'wants': 4800, 'face': 1653, 'population': 3352, '10m': 8, '68': 135, '686': 136, '936': 162, '27': 87, 'nursing': 3037, 'homes': 2145, '2019': 59, 'avg': 473, 'yet': 4992, '10pm': 9, 'restaurant': 3723, 'round': 3799, 'receive': 3587, '11': 10, 'operation': 3087, 'warp': 4806, 'speed': 4120, 'official': 3055, 'sick': 4004, 'cheering': 839, 'truly': 4567, 'deranged': 1288, 'tweet': 4597, 'show': 3992, 'store': 4207, 'signs': 4017, 'seen': 3905, 'addressing': 227, 'covidiots': 1100, 'wearadamnmask': 4834, 'shri': 3999, 'rajiv': 3552, 'gandhis': 1886, 'farsighted': 1692, 'wellthought': 4859, 'helped': 2101, 'india': 2282, 'eliminate': 1489, 'two': 4603, 'deadly': 1217, 'conquer': 999, 'preventable': 3410, 'uip': 4618, 'set': 3938, 'foundation': 1822, 'elimination': 1491, 'finish': 1752, 'novel': 3029, 'publish': 3490, 'poetry': 3331, 'collection': 925, 'workshops': 4941, 'writing': 4962, 'instead': 2327, 'consumed': 1015, 'teaching': 4368, 'family': 1680, 'illness': 2236, 'plan': 3301, 'allah': 299, 'emergency': 1503, 'dropped': 1423, 'september': 3930, 'allegedly': 301, 'flattened': 1770, 'curveand': 1168, 'correct': 1056, 'nat': 2942, 'guard': 2013, 'distribute': 1368, 'pics': 3282, '56': 128, 'surrounding': 4308, 'change': 821, 'iv': 2377, 'john': 2409, 'cusack': 1169, 'world': 4942, 'free': 1833, 'racism': 3539, 'inequity': 2298, 'stages': 4150, 'fake': 1672, 'expedite': 1622, 'approval': 389, 'steralizes': 4196, 'called': 710, 'utopia': 4708, 'along': 310, 'boulevard': 629, 'montreal': 2882, 'stretches': 4228, 'unprecedented': 4674, 'sight': 4012, 'city': 876, 'brand': 634, 'homeless': 2143, 'camp': 717, 'hundreds': 2198, 'tents': 4387, 'often': 3058, 'filled': 1738, 'thrown': 4458, 'everyone': 1586, 'turkey': 4591, 'power': 3366, 'end': 1516, 'choice': 854, 'freedom': 1834, 'essential': 1562, 'happythanksgiving': 2050, 'budget': 668, 'grownups': 2003, 'properly': 3463, 'explain': 1633, 'situation': 4038, 'kids': 2454, 'hes': 2109, 'always': 319, 'thinking': 4436, 'hurting': 2201, 'tt': 4583, 'speaks': 4114, 'volumes': 4767, 'credibility': 1122, 'marylands': 2734, 'corrupt': 1058, 'rino': 3773, 'bodies': 611, 'claimed': 881, 'afford': 254, 'burials': 681, 'kin': 2459, 'found': 1821, 'several': 3942, 'investigators': 2353, 'realized': 3580, 'werent': 4861, 'answering': 355, 'current': 1164, 'knows': 2472, 'impact': 2253, '19': 39, 'economy': 1463, 'better': 566, 'economies': 1462, 'hit': 2126, 'ahead': 273, 'resilient': 3705, '66': 132, 'old': 3066, 'dr': 1412, 'fauci': 1702, 'approves': 392, 'experts': 1632, 'focus': 1789, 'disinfecting': 1357, 'surfaces': 4297, 'diverts': 1373, 'attention': 453, 'resources': 3709, 'away': 479, 'greater': 1984, 'threat': 4446, 'airborne': 283, 'transmission': 4529, 'yesterday': 4991, 'via': 4734, 'bike': 581, 'saw': 3857, 'huge': 2188, 'blockslong': 606, 'lines': 2595, 'realize': 3579, 'saturday': 3851, 'ensure': 1534, 'safety': 3830, 'gather': 1891, 'thursday': 4461, 'involved': 2357, 'typical': 4608, 'khongolosepromise': 2449, 'bling': 602, 'blitzthen': 604, 'fail': 1664, 'deliver': 1264, 'bins': 587, 'glitz': 1936, 'shemthings': 3965, 'understanding': 4642, 'country': 1074, 'hospitalizations': 2163, 'higher': 2114, 'august': 458, 'wave': 4826, 'asymptomatic': 437, 'ox': 3150, 'pretty': 3408, 'cautious': 786, 'social': 4068, 'distancing': 1365, 'staying': 4183, 'somehow': 4082, 'safe': 3826, 'guys': 2024, 'ill': 2233, 'quarantining': 3523, '14': 24, 'veneer': 4723, 'barrington': 506, 'declaration': 1241, 'document': 1383, 'single': 4029, 'reference': 3615, 'amazing': 322, 'harm': 2055, 'caused': 782, 'uk': 4619, 'canada': 722, 'worldwide': 4945, 'measles': 2764, 'surge': 4298, '23year': 72, '2019killing': 60, '200000': 49, 'unicefdeaths': 4661, 'childhood': 848, 'increased': 2278, 'percent': 3232, '2016': 57, 'threatening': 4448, 'spike': 4125, 'curtailing': 1166, 'international': 2341, 'tourism': 4507, 'definitely': 1256, 'come': 932, 'japan': 2395, 'seek': 3901, 'escapism': 1560, '2010': 54, 'cornerstones': 1050, 'probably': 3434, 'part': 3184, 'reflecting': 3619, 'mario': 2725, 'karts': 2436, 'robot': 3786, 'weddings': 4841, 'uptown': 4690, 'funk': 1870, 'note': 3022, 'abroad': 187, 'realizing': 3581, 'countries': 1072, 'might': 2812, 'rona': 3794, 'taiwan': 4341, 'maybe': 2753, 'learn': 2535, 'coupla': 1078, 'things': 4434, 'months': 2881, 'knew': 2467, 'millionaire': 2818, 'senators': 3919, 'david': 1208, 'perdue': 3235, 'loeffler': 2630, 'briefing': 646, 'chose': 860, 'stock': 4203, 'market': 2726, 'inside': 2322, 'helping': 2103, 'georgians': 1914, 'belong': 552, 'jail': 2387, 'rather': 3562, 'dine': 1326, 'nice': 2993, 'donate': 1393, 'salary': 3835, 'afloat': 256, 'executive': 1610, 'limited': 2591, 'sitting': 4037, 'multiple': 2914, 'costs': 1062, 'associated': 434, 'wcovidisnt': 4831, 'line': 2594, 'fairer': 1670, 'nj': 3000, 'misplaced': 2847, 'mcconnell': 2756, 'repubs': 3688, 'wld': 4920, 'pass': 3195, 'stimulus': 4202, 'b4': 488, 'cld': 888, 'curve': 1167, 'flatten': 1769, 'everywhere': 1589, 'wherever': 4878, 'election': 1485, 'corona': 1051, 'politician': 3341, 'spectator': 4118, 'platformed': 3309, 'denier': 1280, 'interviewed': 2346, 'candace': 731, 'owens': 3145, 'something': 4084, 'outlet': 3123, 'deleted': 1262, 'theres': 4426, 'culture': 1157, 'warring': 4808, 'glad': 1935, 'written': 4963, 'excellent': 1598, 'piece': 3285, 'currently': 1165, 'base': 508, 'officially': 3056, 'discharged': 1342, 'minseok': 2832, 'bittersweet': 593, 'true': 4566, 'gives': 1933, 'angertherell': 347, 'quarter': 3524, 'empty': 1512, 'chairs': 812, 'tables': 4339, 'terrorists': 4390, 'organizations': 3109, 'seat': 3888, 'norm': 3013, 'established': 1564, 'conservative': 1002, 'circles': 870, 'across': 210, 'youre': 5000, 'committed': 946, 'simply': 4023, 'ignore': 2230, 'laws': 2523, 'defy': 1258, 'results': 3730, 'nation': 2944, 'survive': 4314, 'advocate': 247, 'refusing': 3625, 'treatment': 4541, 'prison': 3423, 'somewhere': 4085, 'put': 3512, 'apartment': 374, 'complex': 968, 'wellness': 4858, 'checks': 838, 'tenant': 4384, 'discovered': 1347, 'rex': 3755, 'try': 4579, 'reject': 3637, 'lib': 2570, 'panic': 3170, 'machine': 2682, 'interference': 2340, 'answers': 356, 'california': 708, 'putting': 3516, 'denying': 1282, 'schooling': 3874, 'society': 4072, 'failed': 1665, 'millions': 2819, 'fact': 1659, 'added': 224, 'rotikapdamakaan': 3797, 'list': 2600, 'concert': 979, 'dollar': 1389, 'pinned': 3288, 'near': 2960, 'major': 2700, 'support': 4284, 'progress': 3450, 'weighs': 4849, 'msg': 2910, 'looking': 2644, 'reliable': 3650, 'signals': 4014, 'recommendations': 3597, 'consistency': 1006, 'profit': 3446, 'join': 2410, 'affects': 251, 'vulnerable': 4780, 'poor': 3346, 'unequal': 4650, 'ph': 3261, 'professional': 3443, 'protecting': 3470, 'financial': 1746, 'consequences': 1001, 'cyprus': 1177, 'playoffs': 3317, 'hopefully': 2153, 'gon': 1952, 'big': 576, 'prime': 3419, 'game': 1884, 'kicks': 2452, 'players': 3313, 'sorry': 4097, 'hear': 2083, 'wasted': 4819, 'marylanders': 2733, 'moneysad': 2876, 'science': 3876, 'walking': 4792, 'sans': 3843, 'men': 2785, 'prepared': 3386, 'pull': 3495, 'nose': 3021, 'refuse': 3623, 'comply': 973, 'covidkarenken': 1101, 'supervisor': 4280, 'singles': 4032, 'gt': 2008, 'ultimatum': 4622, 'fired': 1755, 'small': 4052, 'deputy': 1287, 'paul': 3208, 'beaudry': 527, 'gave': 1896, 'presentation': 3392, 'aug': 456, 'headlined': 2073, 'reset': 3700, 'supporting': 4287, 'transition': 4528, 'greener': 1986, 'smarter': 4056, 'opportunity': 3092, 'presented': 3393, 'fuck': 1856, 'yeaaaaahhhh': 4979, 'fking': 1768, 'horrible': 2156, 'anymore': 368, 'stupidity': 4245, 'reckless': 3594, 'assholery': 432, 'naming': 2936, 'incipient': 2270, 'tsunami': 4582, 'worsening': 4950, 'facing': 1658, 'charges': 829, 'stealing': 4192, 'relief': 3651, 'funds': 1867, 'spending': 4122, 'luxury': 2676, 'items': 2375, 'including': 2272, 'lamborghini': 2493, 'porsche': 3354, 'federal': 1716, 'authorities': 464, 'words': 4931, 'describe': 1291, 'love': 2659, 'worried': 4946, 'second': 3891, 'places': 3298, 'cry': 1150, 'couldnt': 1066, 'ofc': 3051, 'happens': 2048, 'else': 1496, 'refund': 3622, 'event': 1578, 'canceled': 725, 'supposed': 4291, '420': 112, 'havent': 2063, 'framing': 1827, 'acts': 217, 'citystate': 877, 'imposing': 2259, 'hardship': 2054, 'business': 685, 'owners': 3149, 'shifts': 3972, 'responsibility': 3719, 'letting': 2565, 'pay': 3210, 'eat': 1455, 'period': 3242, 'presiding': 3401, 'meeting': 2774, 'ensured': 1535, 'fight': 1734, 'suraksha': 4294, 'abhiyan': 180, 'launched': 2519, 'whole': 4887, 'district': 1371, 'mandi': 2717, 'nov': 3028, 'dec': 1231, 'jai4himachal': 2385, 'jaifor2022': 2386, 'hypocrite': 2206, 'farce': 1687, '1174': 12, 'contacts': 1021, 'moot': 2883, 'symptomatic': 4331, 'sadly': 3825, 'iq': 2359, 'precautions': 3377, 'resiliency': 3704, 'maintaining': 2698, 'long': 2634, 'survival': 4313, 'depends': 1284, 'passing': 3198, 'actual': 218, 'fck': 1706, 'minister': 2826, 'fcking': 1707, 'tha': 4408, 'hell': 2095, 'leia': 2552, 'right': 3769, 'facts': 1661, 'fair': 1669, 'generally': 1905, 'ones': 3073, 'equipped': 1549, 'midst': 2811, 'resolve': 3708, 'crises': 1132, 'respective': 3712, 'audience': 455, 'ever': 1581, 'sense': 3922, 'campaign': 718, 'challenges': 814, 'elpaso': 1494, 'different': 1322, 'question': 3528, 'shortfall': 3984, 'owes': 3146, '15mil': 30, 'crisis': 1133, 'yes': 4989, '95': 166, 'mean': 2758, 'substantial': 4251, 'proportion': 3465, 'vaccinated': 4713, 'antibodies': 358, 'infection': 2302, 'lockdowners': 2623, 'turned': 4594, 'mindless': 2823, 'cult': 1154, 'control': 1035, 'arent': 398, 'paying': 3214, 'nonsense': 3009, 'led': 2543, 'weak': 4832, 'issues': 2371, 'mandates': 2715, 'violate': 4746, 'constitution': 1011, 'ca': 703, 'french': 1840, 'laundry': 2521, 'sheriffs': 3967, 'able': 182, 'research': 3697, 'success': 4257, 'drug': 1426, 'preventing': 3413, 'republicans': 3685, 'attempting': 448, 'overthrow': 3140, 'constitutional': 1012, 'republicrepublicans': 3687, 'uncontrolled': 4634, 'covidamerican': 1098, 'deathsrepublicans': 1226, 'wages': 4782, 'businessesrepublicans': 687, 'traitors': 4523, 'department': 1283, 'slow': 4050, 'investigate': 2351, 'complaints': 965, 'discrimination': 1348, 'huffpost': 2187, 'learned': 2536, 'employees': 1510, 'pattern': 3207, 'disorganization': 1361, 'incompetence': 2274, 'emerged': 1502, 'de': 1213, 'voss': 4770, 'pits': 3294, 'gayi': 1898, 'tel': 4377, 'lene': 2555, 'according': 204, 'beloved': 554, 'student': 4237, 'satisfied': 3850, 'arrangements': 407, 'icai': 2211, 'icaiexampostponement': 2212, 'icaiexams': 2213, 'happy': 2049, 'moved': 2903, 'echo': 1458, 'park': 3181, 'silver': 4020, 'lining': 2596, 'important': 2257, 'decisions': 1240, 'regarding': 3627, 'educational': 1469, 'institutions': 2329, 'arynews': 417, 'required': 3694, 'australian': 460, 'australians': 461, 'returning': 3739, 'overseas': 3138, 'mr': 2907, 'morrison': 2892, 'confined': 988, 'fortyroom': 1818, 'mansion': 2718, 'team': 4369, 'relations': 3641, 'shovel': 3991, 'sausages': 3854, 'life': 2577, 'known': 2471, 'goal': 1943, 'irrelevant': 2361, 'eradicated': 1553, 'may': 2752, 'annual': 352, '23': 71, 'info': 2306, 'school': 3873, 'teacher': 4366, 'stand': 4156, 'solidarity': 4078, 'deserve': 1293, 'commended': 940, 'efforts': 1477, 'heaven': 2091, 'deans': 1222, 'cameos': 715, 'mattered': 2750, 'dean': 1221, 'sam': 3838, 'brothers': 661, 'scene': 3867, 'series': 3932, 'wrap': 4960, 'lessons': 2559, 'um': 4623, 'dead': 1214, 'debt': 1230, 'mental': 2786, 'went': 4860, 'toilet': 4484, 'daily': 1182, 'tasks': 4356, 'impossible': 2260, 'epiphany': 1542, 'kelsey': 2443, 'busy': 688, 'coming': 937, 'early': 1446, 'deadlines': 1216, 'heres': 2105, 'tomorrows': 4489, 'syndicate': 4334, 'cartoon': 766, 'thanks': 4411, 'sharing': 3957, 'trumpandemic': 4569, 'trumpisawol': 4571, 'concedenowtrump': 976, 'tuesday': 4585, 'feeling': 1720, 'grocery': 1994, 'cook': 1043, 'wife': 4893, 'dad': 1181, 'risk': 3777, 'careful': 753, 'bullies': 676, 'slovakia': 4049, 'performs': 3240, 'autopsies': 466, 'deceased': 1233, 'cov2': 1084, '127': 19, '35': 101, '366': 103, 'detailed': 1301, 'investigation': 2352, 'significantly': 4016, 'imagine': 2242, 'cease': 796, 'desisting': 1296, 'melee': 2778, 'favorite': 1705, 'freemelee': 1836, 'wary': 4810, 'individuals': 2291, 'mandated': 2714, 'todemand': 4481, 'payment': 3215, 'friend': 1847, 'relative': 3643, 'fraud': 1830, 'attempted': 447, 'internet': 2342, 'crime': 1129, 'complaint': 964, 'center': 803, 'leaders': 2529, 'criticalcare': 1136, 'colleagues': 923, 'table': 4338, 'radiotv': 3542, 'message': 2795, 'frontline': 1853, 'dealing': 1220, 'icus': 2216, 'vexing': 4733, 'believe': 547, 'bus': 684, 'weekend': 4844, '34': 99, 'tacky': 4340, 'third': 4437, 'beyond': 570, 'headline': 2072, 'contradictions': 1033, 'star': 4160, 'wars': 4809, 'returns': 3740, 'primary': 3418, 'source': 4103, 'controversy': 1038, 'timeline': 4467, 'inconvenient': 2276, 'truth': 4577, 'remote': 3661, 'inperson': 2317, 'instruction': 2330, 'kabaa': 2430, 'islam': 2363, 'almost': 307, 'billion': 583, 'muslims': 2924, 'anything': 371, 'pray': 3373, 'surely': 4296, 'possible': 3360, 'practice': 3371, 'whereever': 4875, 'marketupdate': 2729, 'oil': 3062, 'prices': 3417, 'extended': 1644, 'gains': 1883, 'monday': 2873, 'traders': 4518, 'optimistic': 3097, 'crude': 1146, 'demand': 1269, 'successful': 4258, 'trials': 4549, 'investonline': 2355, 'nifty': 2994, 'sensex': 3924, 'oilprice': 3063, 'sebi': 3890, 'equityshare': 1550, 'trading': 4519, 'quarterback': 3525, 'outplayed': 3126, 'yalls': 4977, 'chin': 851, 'move': 2902, 'reciprocates': 3593, 'energy': 1523, 'offense': 3052, 'puts': 3515, 'easy': 1454, 'schedule': 3868, 'fluke': 1786, 'ls': 2667, 'injuries': 2312, 'contract': 1030, 'cancelling': 728, 'cancel': 724, 'themhow': 4420, 'tried': 4553, 'send': 3920, 'updated': 4683, 'agreement': 271, 'sign': 4013, 'wrong': 4965, 'anyones': 370, 'getting': 1920, 'dog': 1387, 'analysis': 338, 'gone': 1953, 'justice': 2427, 'byabakamas': 695, 'scientific': 3877, 'ugdecides2021': 4615, 'uganda': 4614, 'project': 3451, 'safeup': 3831, 'provides': 3484, 'ppe': 3367, 'tonigerians': 4490, 'dear': 1223, 'ahmedabad': 275, 'worth': 4954, 'wayamp': 4828, 'none': 3007, 'ahmedabadcurfew': 276, 'applicable': 381, 'seriously': 3934, 'washsanitize': 4815, 'hands': 2042, 'maintain': 2697, 'psa': 3486, 'nonvirologists': 3011, 'remotely': 3662, 'study': 4241, 'viruses': 4757, 'insight': 2324, 'virology': 4754, 'herpesvirus': 2108, 'sarscov2': 3848, 'latent': 2509, 'phase': 3265, 'persistence': 3245, 'reinfection': 3636, 'latency': 2508, 'charlie': 832, 'expect': 1619, 'sidelines': 4009, 'belongs': 553, 'wanted': 4799, 'dwts': 1439, 'whether': 4879, 'general': 1904, 'events': 1579, 'cont': 1018, 'thread': 4445, 'moving': 2905, 'reeling': 3614, 'genocidal': 1909, 'opportunists': 3091, 'waste': 4818, 'afncolonial': 257, 'allowed': 305, 'manufactureconsent': 2719, 'behalf': 542, 'tribes': 4551, 'collective': 926, 'hold': 2131, 'rightntitle': 3770, 'renews': 3664, 'highly': 2117, 'anticipated': 360, 'season': 3887, 'spread': 4134, 'conspiracy': 1009, 'theory': 4421, 'claims': 883, 'economic': 1460, 'elites': 1493, 'using': 4704, 'outbreak': 3117, 'pretext': 3407, 'seize': 3908, 'remake': 3655, 'deflecting': 1257, 'blame': 597, 'onto': 3082, 'followin': 1796, 'regulations': 3635, 'lmaooo': 2612, 'loony': 2646, 'rest': 3722, 'denial': 1278, 'undergirding': 4637, 'slowing': 4051, 'overwhelming': 3144, 'foot': 1801, 'gas': 1888, 'darkest': 1198, 'cart': 765, 'horse': 2159, 'researcher': 3698, 'governments': 1967, 'embrace': 1500, 'antigen': 361, 'shower': 3994, 'normally': 3015, 'red': 3609, 'adidas': 229, 'chiefsvsraiders': 846, '4th': 118, 'usually': 4706, 'kcchiefs': 2439, 'holy': 2140, 'football': 1802, 'crowd': 1144, 'gathers': 1895, 'huntington': 2199, 'beach': 523, 'protest': 3473, 'capital': 741, 'recorded': 3600, 'fatalities': 1697, 'sunday': 4277, 'pushing': 3510, '8391': 151, 'calls': 712, 'massive': 2744, 'hasidic': 2058, 'wedding': 4840, 'brooklyn': 658, 'blatant': 599, 'disregard': 1362, 'adult': 241, 'mother': 2895, 'upset': 4687, 'seeing': 3900, 'dishes': 1355, 'sink': 4034, 'everything': 1588, 'lysoling': 2678, 'catching': 777, 'transmitting': 4530, 'handles': 2040, 'bottle': 627, 'pickles': 3279, 'buy': 691, 'absolutely': 190, 'betrayed': 565, 'albertans': 291, 'triple': 4558, 'bypass': 699, 'foothills': 1803, 'february': 1714, 'visited': 4761, 'various': 4719, 'cardiac': 749, 'unit': 4664, 'breathing': 642, 'tubes': 4584, 'forget': 1811, 'image': 2240, 'luckily': 2670, 'released': 3647, 'court': 1082, 'madness': 2688, 'band': 500, 'courts': 1083, 'supreme': 4293, 'luke': 2673, 'fixed': 1767, 'christmas': 864, 'ad': 221, 'accurate': 207, 'covidvaccine': 1108, 'covid19ireland': 1093, 'lockdown2': 2622, 'inspectors': 2325, 'warrant': 4807, 'fing': 1751, 'moron': 2889, 'members': 2780, 'wearing': 4836, 'throwing': 4457, 'parties': 3188, 'af': 248, 'dirt': 1333, 'bag': 497, 'understood': 4643, 'taken': 4343, 'charge': 828, 'compliance': 969, 'nathans': 2943, 'mess': 2794, 'arrives': 411, 'ended': 1517, 'traveling': 4536, 'likely': 2586, 'complications': 971, 'little': 2604, 'less': 2557, 'register': 3632, '2022': 63, 'philippine': 3267, 'presidential': 3399, 'guide': 2018, 'voter': 4773, 'registration': 3633, 'philippines': 3268, 'phvote': 3274, 'minseokkiee': 2834, 'nasal': 2941, 'easily': 1451, 'allows': 306, 'images': 2241, 'plain': 3300, 'instructions': 2331, 'clean': 889, 'completely': 967, 'wiped': 4909, 'brutal': 663, 'agree': 269, '998': 171, 'chances': 819, '999': 172, 'odds': 3050, 'doc': 1379, 'sound': 4099, 'depressing': 1285, 'plummeted': 3322, 'whoever': 4886, 'reading': 3572, 'struggling': 4235, 'finding': 1749, 'fires': 1757, 'pan': 3166, 'cleaning': 890, 'products': 3442, 'original': 3112, 'bottles': 628, 'prevent': 3409, 'poisoning': 3334, 'twofersafetyprotocol': 4604, 'promising': 3456, 'lower': 2663, 'fatal': 1696, 'toronto': 4500, 'stayhome': 4180, 'resist': 3706, 'urge': 4693, 'dinner': 1328, 'solutions': 4079, 'practical': 3370, 'expedient': 1621, 'structures': 4232, 'built': 673, 'mistake': 2851, 'bay': 519, 'blood': 607, 'worker': 4934, 'centre': 805, 'sa': 3819, 'quiet': 3533, 'thought': 4441, 'sympathy': 4329, 'kindness': 2462, 'wash': 4811, 'yr': 5004, 'skipped': 4042, 'card': 748, '77th': 145, 'sincere': 4026, 'wish': 4914, 'heal': 2074, 'rusted': 3817, 'van': 4718, 'kathy': 2437, 'liveshes': 2607, 'homelessduring': 2144, 'pandemicfor': 3169, 'lifeshe': 2580, 'shares': 3956, 'unhoused': 4659, 'metrovancouver': 2799, 'bother': 626, 'trillion': 4556, 'deficit': 1255, 'abortions': 185, 'controls': 1037, 'disappointing': 1340, 'freaking': 1831, 'nothing': 3024, 'wonder': 4923, 'florida': 1782, 'protect': 3467, 'seems': 3904, 'foreign': 1807, 'idea': 2220, 'coaches': 913, 'hate': 2061, 'mention': 2788, 'showing': 3995, 'uncommon': 4633, 'german': 1915, 'clash': 884, 'angry': 348, 'merkels': 2792, 'reuters': 3744, 'hong': 2150, 'kong': 2476, 'hits': 2127, 'threemonth': 4450, '73': 142, 'expected': 1620, 'chiefs': 845, 'fresh': 1844, 'bye': 696, 'entire': 1538, 'showed': 3993, 'bring': 651, 'suffers': 4268, 'minute': 2837, '60m': 131, 'guardian': 2014, 'zirigozagroup': 5012, 'ecommerce': 1459, 'marketing': 2727, 'enkiles': 1529, '8020': 148, 'indoors': 2295, 'er': 1551, 'zero': 5010, 'foolproof': 1800, 'holiday': 2133, 'meetups': 2776, 'zerorisk': 5011, 'loved': 2660, 'lucky': 2671, 'services': 3936, 'overtaxed': 3139, 'inaccessible': 2262, 'basic': 511, 'stuff': 4242, 'location': 2618, 'agnostic': 266, 'butdigital': 689, 'ok': 3064, 'every1': 1584, 'except': 1599, 'rg': 3757, 'jealous': 2397, 'admirers': 234, 'stalk': 4153, 'provide': 3481, 'commentary': 942, 'relevance': 3649, 'blissfully': 603, 'unaware': 4629, 'stalkers': 4154, 'pitiable': 3293, 'lr': 2666, 'disappointed': 1339, 'surprised': 4305, 'ccp': 791, 'shed': 3961, 'reality': 3577, 'silenced': 4018, 'expelled': 1623, 'journalists': 2419, 'suppress': 4292, 'originated': 3113, 'within': 4918, 'borders': 620, 'frankly': 1829, 'mrna': 2908, 'reporting': 3678, 'efficacy': 1474, 'fine': 1750, 'antivaxxers': 364, 'thatll': 4415, 'doses': 1407, 'quicker': 3531, 'shanghai': 3953, 'airport': 284, 'plunged': 3323, 'chaos': 825, 'horrific': 2157, 'mink': 2828, 'farms': 1691, 'starving': 4166, 'animals': 350, 'cannibalism': 735, '17': 34, 'innocent': 2316, 'ban': 499, 'petitions': 3258, 'vegan': 4721, 'animalrights': 349, 'donald': 1392, 'oneterm': 3074, 'legacy': 2546, 'impeachment': 2256, 'subverting': 4253, 'democracy': 1271, 'becomes': 531, 'outlier': 3124, 'historical': 2123, 'president': 3397, 'carnival': 759, 'virtual': 4755, 'funfilled': 1868, 'activities': 215, 'book': 616, 'storytelling': 4214, 'sets': 3939, 'books': 617, 'await': 475, '500': 122, 'lowincome': 2665, 'letsread': 2563, 'promotes': 3459, 'wonders': 4925, 'immense': 2246, 'arlingtontx': 402, 'experienced': 1626, 'attending': 452, 'large': 2498, 'gathering': 1893, 'watch': 4820, 'video': 4738, 'reduce': 3613, 'protectarlington': 3468, 'covids': 1105, 'unhealthy': 4657, 'relationship': 3642, 'alcohol': 294, 'baked': 498, 'plague': 3299, 'mimosas': 2820, 'shes': 3968, 'doctor': 1380, 'recommending': 3598, 'pcrtest': 3218, 'toxic': 4511, 'fam': 1677, 'rn': 3783, 'kami': 2432, 'lang': 2495, 'tumutulong': 4587, 'kanya': 2435, 'fees': 1724, '10k': 7, 'amt': 336, 'handle': 2038, 'reporter': 3676, 'insurance': 2333, 'system': 4335, 'medicine': 2770, 'fund': 1865, 'direct': 1330, 'scholarships': 3871, 'winnipeg': 4905, 'hotel': 2171, 'fleeing': 1774, 'domestic': 1390, 'abuse': 193, 'owner': 3148, 'tells': 4382, 'losing': 2653, 'hotels': 2172, 'regardless': 3628, 'challenge': 813, 'fearporn': 1710, 'pack': 3157, 'lies': 2575, 'trending': 4546, 'polis': 3339, 'press': 3402, 'conference': 987, 'given': 1932, 'tracking': 4516, 'flu': 1785, 'healthier': 2078, 'smart': 4055, 'buying': 692, 'complicit': 972, 'somebody': 4081, 'political': 3340, 'votes': 4775, 'voting': 4776, 'st': 4142, 'louis': 2658, '158': 28, 'weekgovernor': 4846, 'parson': 3183, 'nothinghe': 3025, 'affidavit': 252, 'expert': 1630, 'documented': 1384, 'maricopa': 2724, 'supervisors': 4281, 'sleep': 4046, 'taxes': 4360, 'leftist': 2545, 'reporters': 3677, 'latestage': 2512, 'trial': 4548, 'pharmaceutical': 3262, 'giant': 1922, 'pfizer': 3260, 'raised': 3549, 'markets': 2728, 'investors': 2356, 'light': 2582, 'tunnel': 4589, 'etribune': 1569, 'junior': 2424, 'screen': 3882, 'spectacular': 4117, 'youth': 5001, 'kisses': 2465, 'hellostrangerthemovie': 2098, 'hellostranger': 2097, 'forgive': 1812, 'needing': 2969, 'drunk': 1429, 'crib': 1127, 'moments': 2869, 'weight': 4850, 'realization': 3578, 'abandoned': 175, '100': 2, 'workforce': 4936, 'binding': 586, 'constraint': 1013, 'space': 4106, 'holding': 2132, 'hostage': 2167, 'launching': 2520, 'frivolous': 1851, 'lawsuits': 2525, 'endlessly': 1518, 'pardon': 3176, 'create': 1117, 'tfw': 4407, '99': 169, 'crooked': 1140, 'sold': 4075, 'secret': 3894, 'insider': 2323, 'husband': 2202, 'contribution': 1034, 'protrump': 3477, 'super': 4278, 'pac': 3155, 'crookedkelly': 1141, 'option': 3098, 'needed': 2968, '254': 80, 'culturally': 1156, 'muslim': 2923, 'jingle': 2403, 'bells': 551, 'screaming': 3881, 'minseokiee': 2833, 'gd': 1899, 'testament': 4393, 'dietary': 1320, 'hygiene': 2205, 'promote': 3458, 'frequent': 1842, 'baths': 515, 'pork': 3353, 'shellfish': 3963, 'undercooked': 4635, 'leading': 2532, 'parasites': 3175, 'guy': 2023, 'summer': 4275, 'aiming': 279, 'herd': 2104, 'immunity': 2250, 'qb': 3518, 'cojones': 918, 'crickets': 1128, 'acc': 198, 'bunch': 679, 'idiots': 2227, 'united': 4666, '136627': 22, 'diagnosed': 1312, 'justwearthedamnmask': 2429, 'todays': 4480, 'productivity': 3441, 'groceries': 1993, 'proper': 3462, 'undertakers': 4645, 'retirement': 3735, 'systems': 4337, 'strained': 4217, 'allow': 304, 'expense': 1624, 'release': 3646, 'cited': 873, 'recent': 3590, 'un': 4627, 'organisationwhich': 3107, 'tallied': 4351, '207500': 66, 'kinda': 2461, 'difficult': 1323, 'cast': 773, 'ungrateful': 4655, 'suck': 4260, 'sour': 4102, 'lemons': 2554, 'elsewhere': 1498, 'website': 4838, 'launch': 2518, 'site': 4036, 'redesign': 3612, 'drafts': 1413, 'clients': 897, 'illustrations': 2237, 'sounds': 4101, 'exam': 1596, 'standing': 4158, 'nd': 2959, 'narcissist': 2939, 'watching': 4822, 'fall': 1674, 'apparently': 376, 'dicharged': 1314, 'soldier': 4076, 'till': 4465, '6th': 138, 'tho': 4439, 'thisss': 4438, 'inbox': 2266, 'biden': 573, 'spoke': 4129, 'evening': 1577, 'jacinda': 2380, 'ardern': 395, 'zealand': 5009, 'presidentelect': 3398, 'praised': 3372, 'ministers': 2827, 'extraordinary': 1649, 'christchurch': 862, 'massacre': 2743, 'role': 3789, 'model': 2858, 'record': 3599, 'singleday': 4031, 'alberta': 290, '1584': 29, 'confirmed': 990, 'hours': 2174, 'premier': 3383, 'ableg': 183, 'abhealth': 179, 'andrew': 343, 'emmy': 1504, 'founders': 1823, 'television': 4379, 'inform': 2307, 'calm': 713, 'briefings': 647, 'heartbreaking': 2087, 'raiders': 3547, 'complain': 963, 'circumstances': 871, 'prouder': 3479, 'atlanta': 441, 'outsourced': 3131, 'staffer': 4147, '1thek': 46, '22': 70, 'selfisolating': 3912, '20th': 67, 'awaiting': 476, 'victory': 4737, 'total': 4502, 'losers': 2651, 'addition': 225, 'enjoy': 1528, 'uarghhhhhhhhhhhhhhhhhhhhhhhhhhhh': 4612, 'candidates': 733, 'georgia': 1913, 'portfolios': 3355, 'worldwhos': 4944, 'whos': 4888, 'function': 1863, 'outofcontrol': 3125, 'brother': 660, 'prepandemic': 3385, 'wheres': 4877, 'sure': 4295, 'misinformation': 2845, 'kill': 2455, 'speak': 4112, 'manager': 2712, 'grandad': 1975, 'pastor': 3201, 'alone': 308, 'spend': 4121, 'conspiraciesjokessuspicions': 1008, 'awful': 481, 'believers': 548, 'stayhomestaysafe': 4182, 'stayhomesaveslives': 4181, 'yeahhhh': 4981, 'modi': 2862, 'perspicacious': 3252, 'remarkable': 3656, 'ability': 181, 'arms': 404, 'length': 2556, 'precovid': 3379, 'steps': 4195, 'decreases': 1243, 'budgets': 670, 'hat': 2060, 'issue': 2369, 'distraction': 1367, 'handling': 2041, 'missing': 2850, 'abpoli': 186, 'cdnpolo': 795, 'whereiskenney': 4876, 'latest': 2511, 'spent': 4123, 'thousands': 4444, 'outdoor': 3120, 'feasible': 1712, 'prepped': 3388, 'biggest': 578, 'nights': 2996, 'devastating': 1306, 'ready': 3573, 'wanda': 4795, 'jamal': 2390, 'viral': 4751, 'accidentally': 202, 'texted': 4405, 'grandson': 1979, 'honor': 2151, 'wandas': 4796, 'lonnie': 2641, 'passed': 3196, 'azfamily': 486, 'cis': 872, 'lady': 2490, 'oh': 3059, 'selfish': 3909, 'consider': 1003, 'secured': 3897, 'nearly': 2961, '414': 111, '379': 104, '40': 109, '996': 170, 'survivable': 4312, 'peeps': 3222, 'call': 709, 'congrats': 994, 'province': 3485, 'covid19as': 1090, 'peds': 3220, 'id': 2218, 'lack': 2489, 'leadershipthere': 2531, 'bear': 524, 'feelshame': 1723, 'yeg': 4986, 'dangerously': 1195, 'misguided': 2841, 'negate': 2971, 'masking': 2736, 'storyread': 4213, 'published': 3491, 'tv': 4596, 'media': 2767, 'stories': 4210, 'availableit': 470, 'readers': 3571, 'consume': 1014, 'breakingupdated': 639, 'vs': 4778, '90': 158, 'previous': 3415, 'effects': 1473, 'older': 3067, 'adults': 242, '170': 35, '162': 32, 'placebo': 3297, 'severe': 3943, 'prefer': 3381, '2b': 89, 'forgot': 1814, 'fundamentals': 1866, 'negotiable': 2974, 'respecting': 3711, 'insult': 2332, 'shitbased': 3975, 'perception': 3234, 'equal': 1545, 'factsbased': 1662, 'trumpcrimefamily': 4570, 'trumpvirus': 4574, 'resistance': 3707, 'yaaaaaaaaaaaaaassss': 4975, 'backkk': 492, 'minseokkkkkkk': 2836, 'sparky': 4110, '330': 98, 'math': 2748, 'yo': 4995, 'scared': 3864, 'fuuuck': 1877, 'selfishass': 3910, 'motherfucker': 2896, 'jul3': 2421, 'kansas': 2434, 'issued': 2370, 'maskwearing': 2741, 'counties': 1070, 'opt': 3095, 'opted': 3096, '81': 149, 'tracked': 4515, 'julaug': 2422, 'possibly': 3361, 'clearer': 893, 'promask': 3453, '34600': 100, '17810': 37, '1945': 42, '2148': 69, 'ron': 3793, 'desantis': 1289, 'weird': 4851, 'painful': 3163, 'cuts': 1172, 'washing': 4813, 'times': 4469, 'hand': 2037, 'sanitizer': 3842, 'top': 4496, 'strange': 4218, 'reason': 3584, 'alexander': 296, 'nazaryan': 2956, 'reup': 3742, 'penalty': 3224, 'challenging': 815, 'participates': 3186, 'execution': 1609, 'condemned': 981, 'celebrate': 799, 'relatives': 3645, 'cold': 919, 'taunting': 4358, 'carrying': 763, 'soooooooooo': 4094, 'king': 2463, 'broken': 657, 'clock': 901, '250k': 79, 'financially': 1747, 'devastated': 1305, 'package': 3158, 'asshat': 431, 'stupid': 4244, 'racist': 3540, 'comments': 943, '3000000': 94, 'okay': 3065, 'dpt': 1411, 'killing': 2457, 'peter': 3257, 'aaby': 173, 'march': 2723, 'doctorsspeakup': 1382, 'te': 4364, 'ohdearhowsadnevermind': 3060, 'icymi': 2217, 'bidenharris': 574, 'landslide': 2494, 'secure': 3896, 'moronic': 2890, 'bullshit': 677, '257000': 82, '123m': 18, 'infected': 2301, '201123': 55, 'naver': 2953, 'update': 4682, 'cover': 1085, 'affordable': 255, '47': 115, 'corporate': 1055, 'giveaway': 1931, 'ucp': 4613, 'jake': 2389, 'sullivan': 4274, '16': 31, 'bidens': 575, 'build': 671, 'appears': 380, 'headed': 2070, 'proud': 3478, 'presidentofdeathanddestruction': 3400, 'accomplishments': 203, 'unemployed': 4648, 'fantasy': 1685, 'radiology': 3541, 'omaygad': 3069, 'wait': 4784, 'updates': 4684, 'outside': 3130, 'theyve': 4431, 'meet': 2773, 'fans': 1683, 'sooner': 4092, 'later': 2510, 'longhaulers': 2636, 'suffer': 4266, 'organ': 3106, 'downs': 1409, 'muscle': 2918, 'numbness': 3034, 'extreme': 1650, 'mild': 2813, '2040': 65, 'mystery': 2929, 'fix': 1766, 'wtpblue': 4968, 'onev1': 3075, 'fam46': 1678, 'shutting': 4003, 'wondering': 4924, '4k': 117, 'threshold': 4451, 'capacity': 739, 'usual': 4705, 'intake': 2334, 'ooo': 3084, 'asia': 423, 'hindered': 2118, 'production': 3439, 'weekly': 4847, '3000': 93, 'incase': 2269, 'planning': 3305, 'outings': 3122, 'lose': 2650, 'follower': 1794, 'prospective': 3466, 'mine': 2825, 'evil': 1593, 'admitted': 236, 'purpose': 3507, 'releasing': 3648, 'ccpvirus': 792, 'catch': 776, 'force': 1804, 'visiting': 4762, 'scholar': 3870, 'bio': 588, 'mitch': 2852, 'mcconnells': 2757, 'theyre': 4430, 'administration': 232, 'starts': 4165, 'struggle': 4233, 'succeed': 4254, 'checkpoints': 837, 'encircle': 1514, 'neighborhood': 2975, '60k': 130, 'newark': 2982, 'rr': 3801, 'tracks': 4517, 'roads': 3784, 'proof': 3461, 'residency': 3701, 'activity': 216, 'weekends': 4845, 'wed': 4839, 'admitting': 237, 'clearly': 894, 'task': 4355, 'parenting': 3178, 'cling': 899, 'thetorch': 4428, 'martyrdomwith': 2731, 'whiteknuckled': 4883, 'grip': 1991, 'pandemia': 3167, 'nutshell': 3040, 'inept': 2297, 'mishandle': 2843, 'head': 2069, 'cure': 1160, 'cancer': 729, 'dumb': 1435, '250000': 77, 'refuses': 3624, 'elect': 1483, 'access': 200, 'distribution': 1370, 'exposure': 1642, 'measure': 2765, 'level': 2566, 'point': 3332, 'san': 3841, 'antonio': 366, 'exhibiting': 1616, 'caution': 785, 'bigger': 577, 'holidays': 2134, 'nowhere': 3031, 'security': 3898, 'nutrition': 3039, 'employment': 1511, 'extendpmgkay': 1645, 'universalisepds': 4667, 'write': 4961, 'field': 1733, 'college': 927, 'covering': 1086, 'charlatan': 830, 'either': 1480, 'shando': 3952, 'profiteer': 3447, 'swayed': 4322, 'naive': 2934, 'criminallynegligent': 1131, 'main': 2696, 'succeeded': 4255, 'regards': 3629, 'boris': 622, 'yeltsin': 4988, 'exactly': 1595, 'breathe': 641, 'recovering': 3604, 'tool': 4495, 'covidpreneurs': 1102, 'forge': 1810, 'ventures': 4725, 'woman': 4921, 'entrepreneur': 1540, 'management': 2711, 'rmc': 3782, 'haat': 2027, 'smooth': 4059, 'functioning': 1864, 'obedience': 3043, 'norms': 3017, 'merkel': 2791, 'operations': 3088, 'neoc': 2977, 'additional': 226, 'sailors': 3833, 'suspected': 4318, 'confirm': 989, 'samoa': 3839, 'case': 768, 'tons': 4492, 'held': 2094, 'sniffles': 4063, 'century': 807, 'blaming': 598, 'tough': 4504, 'admit': 235, 'coach': 912, 'idiot': 2225, 'located': 2617, 'burial': 680, 'warning': 4805, 'club': 907, 'cancelled': 727, 'meetings': 2775, 'art': 414, 'beginning': 541, 'changed': 822, 'learning': 2538, 'procreate': 3438, 'passengers': 3197, 'transit': 4527, 'area': 396, 'fra': 1825, 'result': 3727, 'enter': 1536, 'germany': 1916, '175': 36, 'detected': 1303, 'sri': 4140, 'lanka': 2496, 'thus': 4462, 'bringing': 652, '19946': 43, 'srilanka': 4141, 'lka': 2610, 'covid19sl': 1096, 'canadians': 723, 'water': 4824, 'preventative': 3411, 'stalls': 4155, 'boil': 613, 'advisory': 246, 'fragile': 1826, 'appropriately': 388, 'slightest': 4048, 'adversity': 243, 'quit': 3534, 'romp': 3792, 'room': 3795, 'stressful': 4227, 'feelings': 1721, 'msnbc': 2912, 'richard': 3759, 'engle': 1527, 'turns': 4595, 'chinese': 853, 'scientists': 3878, 'genetic': 1908, 'code': 916, 'january': 2394, 'fat': 1695, 'donnie': 1397, 'yesss': 4990, 'reqs': 3689, 'reqssolutions': 3692, 'reqsbusiness': 3690, 'reqsbusinesssolutions': 3691, 'healthnews': 2079, 'ushealthupdates': 4703, 'healthupdates': 2081, 'experimental': 1629, 'cocktail': 915, 'gets': 1919, 'fda': 1708, 'authorization': 465, 'begin': 540, 'trudeau': 4565, 'outta': 3132, 'mouth': 2901, 'editorial': 1466, 'cartoons': 767, 'cut': 1171, 'core': 1049, 'funny': 1871, 'boxes': 630, 'normanrockwell': 3016, 'fantastic': 1684, 'indoctrination': 2292, 'common': 949, 'hour': 2173, 'gms': 1941, 'byu': 700, 'fills': 1740, 'delays': 1261, 'ooc': 3083, 'changes': 823, 'rule': 3806, 'cancellations': 726, 'occ': 3046, 'uw': 4709, 'cap': 737, 'ya': 4974, 'talking': 4349, 'broke': 656, 'las': 2503, 'vegas': 4722, 'legendary': 2548, 'trap': 4532, 'validate': 4717, 'raising': 3551, 'jobkeeper': 2407, 'described': 1292, 'countrysaving': 1075, 'moment': 2868, 'revealing': 3746, 'wage': 4781, 'subsidy': 4250, 'played': 3311, 'gentle': 1911, 'reminder': 3660, 'process': 3437, 'air': 282, 'ways': 4829, 'contacting': 1020, 'email': 1499, 'trip': 4557, 'flight': 1776, 'yyz': 5008, 'amd': 325, 'refz5qxj': 3626, 'rapids': 3558, 'therell': 4425, 'setting': 3940, 'centres': 806, 'rollout': 3790, 'centers': 804, 'collecting': 924, 'signatures': 4015, 'bbi': 520, 'lord': 2648, 'mercy': 2789, 'endures': 1521, 'forever': 1808, 'psalms': 3487, '1071': 6, 'wordofgod': 4930, 'verseoftheday': 4731, 'jesus': 2400, 'weshallovercome': 4862, 'godblessusall': 1945, 'waittt': 4787, 'eight': 1478, 'relatively': 3644, 'suffering': 4267, 'mysterious': 2928, 'debilitating': 1228, 'scramble': 3879, 'treat': 4538, 'tomorrow': 4488, '60': 129, 'minutes': 2838, 'kristi': 2481, 'noem': 3003, 'continues': 1028, 'extol': 1647, 'benefits': 558, 'personal': 3248, 'choices': 855, 'dakota': 1185, 'highest': 2115, 'capita': 740, 'rates': 3561, 'condolences': 985, 'crushing': 1148, 'uplifting': 4685, 'whacky': 4869, 'humorous': 2197, 'nationally': 2947, 'recognized': 3595, 'gathered': 1892, 'upside': 4688, 'wtf': 4967, 'mortality': 2893, 'largely': 2499, 'unchanged': 4632, 'sweden': 4323, 'norway': 3020, 'peer': 3223, 'reviewed': 3751, 'twiv': 4602, 'dominating': 1391, 'appointments': 383, 'sale': 3836, 'dived': 1372, 'listening': 2602, 'joshua': 2418, 'lay': 2526, 'sin': 4024, 'error': 1557, 'pinning': 3289, 'christ': 861, 'appeared': 379, 'eradication': 1554, 'polio': 3338, 'jis': 2405, 'tremendous': 4544, 'bettering': 567, 'crores': 1142, 'indians': 2284, 'comparing': 957, 'chernobyl': 843, 'deeply': 1247, 'unfair': 4652, 'soviet': 4105, 'union': 4663, 'bright': 649, 'monoclonal': 2877, 'eua': 1570, 'distributed': 1369, '1st': 45, 'immune': 2249, 'lasts': 2506, '89': 157, 'alabama': 287, 'lsu': 2668, 'saban': 3821, 'certainly': 810, 'forward': 1819, 'playing': 3314, 'disruptions': 1363, 'clemson': 895, 'fsu': 1855, 'excuse': 1608, 'forfeited': 1809, 'besides': 561, 'window': 4900, 'nit': 2999, 'craving': 1114, 'caesars': 705, 'git': 1929, 'rush': 3813, 'classic': 887, 'trek': 4543, 'tng': 4477, 'episode': 1543, 'host': 2166, 'brain': 632, 'controlling': 1036, 'aliensi': 297, 'pence': 3225, 'idgaf': 2223, 'herhisits': 2106, 'obvious': 3044, 'comorbidity': 954, 'ridden': 3764, 'partner': 3189, '4yrs': 120, 'vitriolic': 4765, 'hatred': 2062, 'toward': 4508, 'texas': 4403, 'politics': 3343, 'stake': 4152, 'smell': 4057, 'grilled': 1988, 'mushrooms': 2920, 'aloneeeeeee': 309, 'charles': 831, 'bible': 571, 'sept': 3929, 'mid': 2807, 'looked': 2643, 'torenew': 4498, 'contracted': 1031, 'daughters': 1206, 'month': 2879, 'fought': 1820, 'wig': 4894, 'attended': 451, 'canned': 734, 'polluting': 3345, 'dismissal': 1359, 'taste': 4357, 'fever': 1731, 'socialists': 4070, 'los': 2649, 'angeles': 345, 'democrats': 1274, 'destroying': 1300, 'ridiculous': 3767, 'shameful': 3949, 'save': 3855, 'dash': 1199, 'lily': 2589, 'crying': 1151, 'paused': 3209, 'campaigns': 719, 'countriesmany': 1073, 'experiencing': 1628, 'outbreaksthe': 3119, 'eightbrazilcentral': 1479, 'african': 260, 'republicdemocratic': 3686, 'republic': 3683, 'congo': 993, 'misha': 2842, 'jared': 2396, 'tiny': 4471, 'bit': 590, 'concerning': 978, 'finale': 1743, '15': 25, 'flaws': 1773, 'deeper': 1246, 'requirements': 3695, 'introducing': 2347, 'upward': 4691, 'frequencies': 1841, 'improve': 2261, 'thereby': 4424, 'stronger': 4231, 'binauralbeats': 585, 'solfeggiofrequencies': 4077, 'soundhealing': 4100, 'surging': 4302, 'hospitalization': 2162, 'refresher': 3620, 'basics': 513, 'distance': 1364, 'exciting': 1607, 'wisconsin': 4910, 'cvs': 1174, 'hire': 2122, 'pharmacists': 3263, 'vaccinate': 4712, 'ltc': 2669, 'facilities': 1656, 'click': 896, 'link': 2597, 'cvshealth': 1175, 'committing': 947, 'spreaders': 4135, 'prisons': 3425, '4x': 119, '2x': 91, 'outrage': 3128, 'necropolitical': 2966, 'administrations': 233, 'extend': 1643, 'incarcerated': 2268, 'abolition': 184, 'mall': 2708, 'crawl': 1115, 'cities': 874, 'richmond': 3762, 'previously': 3416, 'fucked': 1857, 'huh': 2189, 'station': 4173, 'mostly': 2894, 'privately': 3427, 'owned': 3147, 'failing': 1666, 'aid': 277, 'enforcing': 1526, 'gatherings': 1894, '2000': 48, '55': 127, 'staywoke': 4188, 'doodleim': 1402, 'rudolph': 3804, 'santa': 3844, 'rarely': 3559, 'viewing': 4741, 'retweets': 3741, 'oneits': 3072, 'covidy': 1109, 'fox': 1824, 'hume': 2195, 'sued': 4265, '26000': 85, 'killed': 2456, 'lock': 2620, 'murder': 2917, 'believes': 549, 'scale': 3862, 'shred': 3998, 'painfully': 3164, 'dull': 1434, 'creative': 1120, 'indeed': 2281, 'dark': 1197, 'mandate': 2713, 'reaping': 3583, 'hometown': 2146, 'trouble': 4560, 'affected': 250, 'condom': 986, 'manufacturers': 2720, 'movie': 2904, 'theatres': 4418, 'oyo': 3153, 'false': 1675, 'promises': 3455, 'bet': 564, 'erectile': 1555, 'dysfunction': 1442, 'g20': 1879, 'spare': 4109, 'repercussions': 3670, 'g20riyadhsummit': 1880, 'effect': 1471, 'numbers': 3033, 'soar': 4066, 'hoping': 2155, 'budgeting': 669, 'frustrated': 1854, 'penetrates': 3226, 'exploits': 1637, 'kills': 2458, 'cells': 801, 'army': 405, 'aims': 280, 'destroy': 1299, 'jimin': 2401, 'rlly': 3781, 'age': 263, 'frickin': 1845, 'hows': 2180, 'hyejins': 2204, 'comeback': 933, 'pushed': 3509, 'wellher': 4857, 'injuryand': 2313, 'pleased': 3321, 'represent': 3680, 'commend': 939, 'saudi': 3852, 'presidency': 3396, 'majesty': 2699, 'riyadh': 3779, 'summits': 4276, 'africa': 259, 'context': 1025, 'cooperation': 1046, 'climate': 898, 'alarmed': 288, 'cnn': 911, 'holland': 2137, 'steep': 4193, '1218': 17, 'exceptions': 1602, 'remind': 3659, 'rich': 3758, 'famous': 1681, 'poors': 3349, 'asking': 427, 'requiring': 3696, 'reuse': 3743, 'n95': 2931, 'periods': 3243, 'term': 4388, 'provided': 3482, 'zoom': 5015, 'agm': 265, 'growing': 2001, 'records': 3601, 'row': 3800, 'heartless': 2088, 'among': 333, 'congresswoman': 995, 'historically': 2124, 'hud': 2185, 'secretary': 3895, 'settle': 3941, 'tens': 4385, 'brink': 653, 'eviction': 1590, 'chooses': 857, 'airports': 285, 'couple': 1079, 'dressed': 1417, 'dude': 1432, 'flip': 1777, 'flops': 1780, 'havingbto': 2064, 'push': 3508, 'luggage': 2672, 'baby': 490, 'punch': 3499, 'scroll': 3884, 'comical': 936, 'arguments': 399, 'become': 530, 'farmers': 1690, 'punjab': 3503, 'stubble': 4236, 'polluted': 3344, 'executivedirectors': 1611, 'vital': 4764, 'board': 609, 'tip': 4472, 'connected': 996, 'boardchair': 610, 'tips': 4473, 'rcsm489': 3567, 'magnified': 2690, 'visit': 4760, 'grandma': 1977, 'temperature': 4383, 'gloves': 1940, 'preserve': 3394, 'memory': 2784, 'furious': 1873, 'midseason': 2810, 'mind': 2822, 'crew': 1126, 'amc': 324, 'critical': 1134, 'feartwd': 1711, 'senates': 3917, 'session': 3937, 'north': 3018, 'youve': 5003, 'whitmer': 4884, 'bensons': 560, 'corruption': 1059, 'ends': 1520, 'measures': 2766, 'mail': 2694, 'shoutout': 3990, 'steal': 4191, 'orchestrating': 3101, 'fighting': 1736, 'sickest': 4007, 'ventilator': 4724, 'seconds': 3893, 'count': 1069, 'unedited': 4647, 'efficiency': 1475, 'intubates': 2348, 'patient': 3203, 'happening': 2047, 'spring': 4137, 'stored': 4208, 'refrigerated': 3621, 'trucks': 4564, 'traumatic': 4533, 'outdoors': 3121, 'walks': 4793, 'connecting': 997, 'nature': 2952, 'winter': 4907, 'locked': 2627, 'pudong': 3493, 'sudden': 4263, 'announcement': 351, 'mass': 2742, 'testcontainment': 4394, 'atmosphere': 442, 'boiling': 615, 'hot': 2170, 'rumor': 3808, 'mandatory': 2716, 'turmoil': 4592, '70s': 141, 'underlying': 4639, 'conditions': 984, 'hanging': 2043, 'anxiety': 367, 'shaming': 3951, 'productive': 3440, 'respiratory': 3713, 'timing': 4470, 'gee': 1901, 'wouldve': 4958, 'hindsight': 2119, 'preexisting': 3380, 'condition': 983, 'born': 623, 'surveys': 4311, 'uses': 4702, 'caveats': 787, 'trendy': 4547, 'inaction': 2264, 'individual': 2290, 'ummmm': 4626, 'fuckin': 1858, 'girls': 1928, 'dating': 1203, 'sex': 3945, 'longterm': 2638, 'boyfriend': 631, 'loves': 2661, 'taxpayers': 4361, 'modernas': 2861, '2500000000': 78, 'peoples': 3229, 'pharmas': 3264, 'newsom': 2987, 'blob': 605, 'blind': 601, 'invest': 2349, 'dirty': 1334, 'hollywood': 2138, 'bribes': 645, 'idphs': 2228, 'legit': 2551, 'illinois': 2235, 'cronyism': 1138, 'former': 1815, 'usc': 4698, 'enraged': 1532, 'suspended': 4319, 'sequel': 3931, 'character': 827, 'monetary': 2874, 'solvent': 4080, 'ben': 556, 'carson': 764, 'extremely': 1651, 'became': 529, 'desperately': 1297, 'survived': 4315, 'antibody': 359, 'drugsbefore': 1428, 'approved': 391, 'privilege250k': 3429, '1201': 15, 'explains': 1635, 'shop': 3978, 'drop': 1422, 'attitude': 454, 'malls': 2709, 'regular': 3634, 'liar': 2569, 'mbn': 2755, 'service': 3935, 'finished': 1753, 'koreanupdates': 2478, 'rz': 3818, 'partying': 3191, 'caring': 757, 'elses': 1497, 'trifling': 4554, 'thanksgivingmasksgivingzoomsgiving': 4414, 'household': 2176, 'ideally': 2221, 'wearamask': 4835, 'cooking': 1044, 'types': 4607, 'whatever': 4870, 'rushed': 3814, 'choose': 856, 'revenge': 3747, 'superbowl': 4279, 'champs': 816, 'town': 4510, 'relieved': 3652, 'newfoundland': 2983, 'labrador': 2488, 'larger': 2500, 'uri': 4695, 'xiu': 4970, 'amastnt': 321, 'weverse': 4867, 'grown': 2002, 'mentally': 2787, 'customer': 1170, 'loading': 2614, 'goods': 1957, 'tears': 4371, 'immunocompromised': 2252, 'shaking': 3947, 'suggest': 4271, 'equates': 1548, 'sht': 4000, 'neighbors': 2976, 'triumphed': 4559, 'bihar': 580, 'silent': 4019, 'voterswomenhave': 4774, 'telangana': 4378, 'unhappy': 4656, 'trs': 4561, 'floods': 1778, 'erratic': 1556, 'drinking': 1419, 'supply': 4283, 'drainage': 1414, 'facilitiesthis': 1657, 'decimate': 1237, 'trsfailedghmc': 4562, 'safely': 3827, 'friendsgiving': 1849, 'fun': 1862, 'sharp': 3958, 'covid19cases': 1092, 'ducking': 1431, 'washington': 4814, 'narrative': 2940, 'pac12': 3156, 'suddenly': 4264, 'byus': 701, 'standards': 4157, 'utah': 4707, 'p12': 3154, 'jump': 2423, 'late': 2507, 'affidavits': 253, 'rejected': 3638, 'hearsay': 2086, 'exceptional': 1601, 'submission': 4248, 'appeal': 377, 'timely': 4468, 'necessary': 2965, 'declarations': 1242, 'livingnotlockdown': 2609, 'covid19aus': 1091, 'janandolan': 2393, 'appropriate': 387, 'behaviours': 545, 'indiafightscorona': 2283, 'unite2fightcorona': 4665, 'protected': 3469, 'comment': 941, 'shame': 3948, 'compares': 956, 'nazi': 2957, 'fighter': 1735, 'sophie': 4095, 'scholl': 3872, 'querdenker': 3527, 'coviddenier': 1099, 'hannover': 2044, 'disgusted': 1354, 'quits': 3536, 'spot': 4132, 'guidelines': 2019, 'exception': 1600, 'indonesias': 2293, 'jakarta': 2388, 'extends': 1646, 'infections': 2303, 'casesone': 771, 'thru': 4459, 'czar': 1178, 'persistent': 3246, 'loss': 2654, 'acute': 220, 'indicate': 2286, 'continued': 1027, 'replication': 3673, 'epithelia': 1544, 'inflammation': 2304, 'factor': 1660, 'seemingly': 3903, 'immunizations': 2251, 'arrive': 409, 'honest': 2148, 'naturalistic': 2951, 'pagan': 3160, 'disbelieve': 1341, 'earth': 1449, 'jackpot': 2382, 'ride': 3766, 'dinosaurs': 1329, 'yeezus': 4985, 'increasing': 2279, 'admin': 231, 'gop': 1959, 'realistically': 3576, 'quite': 3535, 'replace': 3671, 'cares': 755, 'bts': 665, 'btsarmy': 666, 'gdrive': 1900, 'putin': 3513, 'doomed': 1403, '30': 92, 'robbery': 3785, 'putinkremlin': 3514, 'condemns': 982, 'russians': 3815, 'slide': 4047, 'post': 3362, 'horrifying': 2158, 'advice': 244, 'singular': 4033, 'quack': 3519, 'pal': 3165, 'carpay': 761, 'threatened': 4447, 'legal': 2547, 'pain': 3162, 'five': 1765, 'carers': 754, 'insecure': 2319, 'feeding': 1718, 'sponsor': 4130, 'tax': 4359, 'citizens': 875, 'democratic': 1273, 'partys': 3192, 'interest': 2338, 'glorify': 1939, 'mfer': 2803, 'alive': 298, '1ers': 44, 'benefited': 557, 'policies': 3336, 'aids': 278, 'floral': 1781, 'flowers': 1784, 'suspends': 4320, 'rising': 3776, 'punchit': 3500, 'unemployment': 4649, 'paycheck': 3212, 'dump': 1436, 'truck': 4563, 'wagon': 4783, 'fattie': 1701, 'heavyi': 2092, 'delayed': 1260, 'interventions': 2345, 'exacerbated': 1594, 'resulted': 3728, 'avoidable': 474, 'prevented': 3412, 'decades': 1232, 'wwe': 4969, 'appearances': 378, 'kane': 2433, 'sonofabitch': 4090, 'bitch': 591, 'singlebut': 4030, 'scares': 3865, 'badly': 496, 'thingi': 4433, 'datingsucks': 1204, 'lonleybitchhours': 2640, 'planes': 3302, 'preprint': 3390, 'covid19nz': 1095, 'escaped': 1559, 'impacts': 2255, 'tertiary': 4391, 'enrolments': 1533, '80': 146, 'responsibilities': 3718, 'undertaker': 4644, 'deserved': 1294, 'goodbye': 1955, 'front': 1852, 'appreciation': 384, 'farewelltaker': 1688, 'exol': 1618, 'coworkers': 1112, 'bacterial': 494, 'pneumonia': 3330, '1918': 40, 'influenza': 2305, '2008': 52, 'institutes': 2328, 'nih': 2997, 'ironic': 2360, 'metabolic': 2797, 'morbidityif': 2885, 'connection': 998, 'intervention': 2344, 'madeinstituted': 2686, 'tbh': 4362, 'professors': 3445, 'punctually': 3501, 'richer': 3761, 'poorer': 3347, 'streams': 4224, 'basically': 512, 'company': 955, 'situations': 4039, 'concerts': 980, 'shopping': 3981, 'prepping': 3389, 'daunting': 1207, 'undertaking': 4646, 'availability': 468, 'anywhere': 373, 'unreal': 4675, 'reprioritize': 3681, 'respected': 3710, 'kerala': 2447, 'amendment': 326, 'frequently': 1843, 'admk': 238, 'govts': 1971, 'authoritarian': 462, 'example': 1597, 'governance': 1965, 'views': 4742, 'newtexas': 2989, 'arrived': 410, 'el': 1481, 'pasothey': 3194, 'assigned': 433, 'grim': 1989, 'overflow': 3135, 'piled': 3286, 'mobile': 2856, 'morgues': 2887, 'workpreviously': 4939, 'inmates': 2314, 'dreams': 1416, 'particularly': 3187, 'worry': 4947, 'laughable': 2516, 'rigged': 3768, 'league': 2533, 'everybody': 1585, 'nfl': 2991, 'sacrifice': 3822, 'integrity': 2335, 'pulls': 3497, 'eerily': 1470, 'felt': 1727, 'leaving': 2541, 'shift': 3970, 'assess': 430, 'reopen': 3666, 'inshallah': 2321, 'worship': 4951, '33': 97, 'dropscovid': 1425, 'cost': 1060, '82': 150, 'approve': 390, 'handled': 2039, 'ebola': 1457, 'resilience': 3703, 'survivors': 4316, 'spirit': 4127, 'christie': 863, 'creeping': 1125, 'shoulders': 3988, 'unable': 4628, 'abuela': 192, 'hosts': 2169, 'chronic': 866, 'runs': 3811, 'double': 1408, 'donuts': 1400, 'surgery': 4300, 'covidzero': 1110, 'publishing': 3492, 'guest': 2016, 'devoid': 1309, 'alleging': 302, 'prioritizes': 3422, 'gyms': 2026, 'indoor': 2294, 'word': 4928, 'alreadyyyyy': 314, 'fav': 1704, 'gif': 1923, 'explaining': 1634, 'nontwitter': 3010, 'folk': 1791, 'perverse': 3254, 'weirdos': 4852, 'bearable': 525, 'downtown': 1410, 'seattle': 3889, 'unhinged': 4658, 'feminist': 1729, 'breakdown': 637, 'loses': 2652, 'preacher': 3376, 'encapsulation': 1513, 'nobodys': 3002, 'outraged': 3129, 'ignoring': 2232, 'strangers': 4220, 'everyones': 1587, 'mad': 2683, 'nobody': 3001, 'wins': 4906, 'freezer': 1838, 'brooklyns': 659, 'waterfront': 4825, 'protesting': 3475, 'statewide': 4171, '11p': 13, 'wording': 4929, 'topic': 4497, 'tyranny': 4609, 'humiliate': 2196, 'cuomos': 1159, 'stazi': 4189, 'demanding': 1270, 'cower': 1111, 'run': 3809, 'repeat': 3667, 'cedarstarzanna': 797, 'wishes': 4916, 'chicoca': 844, 'traditional': 4520, 'rotating': 3796, 'shelter': 3964, 'groups': 1999, 'hosting': 2168, 'coldweathergear': 920, 'donation': 1394, 'drive': 1420, 'warm': 4804, 'dry': 1430, 'details': 1302, 'spc': 4111, 'adnoc': 239, 'robust': 3787, 'proactive': 3431, 'throughout': 4455, 'consistently': 1007, 'prioritized': 3421, 'continuity': 1029, 'preserving': 3395, 'sustained': 4321, 'uae': 4611, 'locking': 2628, 'compensate': 959, 'sugary': 4270, 'carby': 747, 'snacks': 4061, 'exercise': 1613, 'university': 4669, 'damaging': 1189, 'uminhyung': 4625, 'ashamed': 421, 'senator': 3918, 'jag': 2383, 'kosher': 2480, 'straight': 4215, 'twothirds': 4605, 'indias': 2285, 'returned': 3737, 'workplace': 4938, 'pronto': 3460, 'grow': 2000, 'arm': 403, 'worrying': 4948, 'lmao': 2611, 'europes': 1574, 'allcause': 300, 'excess': 1603, '39': 105, 'bump': 678, '3034': 95, 'heatwave': 2090, 'collateral': 921, 'damage': 1188, 'socalled': 4067, 'teachers': 4367, 'wsj': 4966, 'text': 4404, 'received': 3588, 'pulmonary': 3498, 'socialdistance': 4069, 'yay': 4978, 'elsas': 1495, 'wisher': 4915, 'forties': 1816, 'works': 4940, 'credit': 1123, 'suisse': 4273, 'estimates': 1566, 'sufficient': 4269, 'worlds': 4943, '2nd': 90, 'disability': 1336, 'houses': 2177, 'staph': 4159, 'meds': 2771, 'antibiotics': 357, 'acting': 212, 'border': 619, 'closures': 906, 'cmo': 909, 'disgracefully': 1353, 'faith': 1671, 'australia': 459, 'sydney': 4328, 'followers': 1795, 'andor': 342, 'momma': 2870, 'purchase': 3504, 'supportblackwomen': 4286, 'morons': 2891, 'slave': 4044, 'nano': 2937, 'rights': 3771, 'excited': 1605, 'truthfully': 4578, 'jimins': 2402, 'voice': 4766, 'dance': 1191, 'dallas': 1187, 'tour': 4505, 'torn': 4499, 'christopher': 865, 'nolans': 3005, 'cinematic': 869, 'experiences': 1627, 'arrrrrgh': 412, 'waiting': 4786, 'vary': 4720, 'employed': 1509, 'cerb': 808, 'pt': 3488, 'incomes': 2273, 'ford': 1806, 'isolations': 2368, 'hosp': 2160, 'filling': 1739, 'onpoli': 3079, 'neoleukin': 2978, 'therapeutics': 4423, 'applied': 382, 'protein': 3472, 'design': 1295, 'technology': 4373, 'created': 1118, 'antiviral': 365, 'molecule': 2865, 'passionately': 3199, 'probaby': 3435, 'adamantly': 222, 'supports': 4288, 'parenthood': 3177, 'lecture': 2542, 'rural': 3812, 'northern': 3019, 'minnesota': 2829, 'tribe': 4550, 'venues': 4726, 'orchestral': 3100, 'halls': 2034, 'spaces': 4107, 'group': 1998, 'singers': 4027, 'performances': 3239, 'caroling': 760, 'computer': 974, 'door': 1404, 'talked': 4348, 'buddy': 667, 'kenya': 2445, 'commence': 938, 'east': 1452, 'jack': 2381, 'gates': 1890, 'et': 1567, 'al': 286, 'china': 852, 'organization': 3108, 'cured': 1161, 'mabye': 2681, '2021': 62, 'graphic': 1981, 'column': 931, 'ratio': 3563, 'percentage': 3233, '0054': 0, '946': 165, '3546': 102, 'disappear': 1338, '54': 126, '700': 140, 'theaters': 4417, 'usa': 4697, 'surges': 4301, 'europe': 1571, 'jurgen': 2426, 'klopp': 2466, 'confirms': 991, 'mo': 2855, 'salah': 3834, 'resume': 3731, 'lfc': 2568, 'training': 4522, 'humble': 2194, 'request': 3693, 'plz': 3325, 'raise': 3548, 'gst': 2005, 'msmes': 2911, 'dates': 1202, 'compliances': 970, 'gstamnesty': 2006, 'payers': 3213, 'amnesty': 332, 'dilemma': 1324, 'itc': 2373, 'gstamnestywithitc': 2007, 'hoyyyyy': 2181, 'huhuhu': 2190, 'shet': 3969, 'goosebumps': 1958, 'allergies': 303, 'possibilities': 3359, 'thrones': 4454, 'creators': 1121, 'ultimately': 4621, 'seismic': 3907, 'cultural': 1155, 'era': 1552, 'subsequent': 4249, 'explosion': 1638, 'random': 3556, 'senseless': 3923, 'violence': 4749, 'consuming': 1017, 'cheap': 834, 'bored': 621, 'excitement': 1606, '311': 96, 'obviously': 3045, 'raccoon': 3537, 'wandering': 4797, 'noon': 3012, 'bed': 533, 'unless': 4670, 'property': 3464, 'potentially': 3364, 'overall': 3133, 'ask': 425, 'shifted': 3971, 'holistic': 2136, 'finance': 1745, '250': 76, 'golf': 1949, 'covidrecovered': 1103, 'ab': 174, 'plasma': 3307, 'donors': 1398, 'min': 2821, '28': 88, 'willing': 4897, 'male': 2706, '98188898569312405330': 168, 'mahraja': 2693, 'agrasen': 268, 'rohini': 3788, 'diagnosis': 1313, 'lungs': 2674, 'attempt': 446, 'deny': 1281, 'lifesaving': 2579, 'met': 2796, 'lawsuit': 2524, 'simple': 4022, 'seem': 3902, 'petrified': 3259, 'opponent': 3090, 'shattered': 3960, 'popular': 3351, 'mishandling': 2844, 'costing': 1061, 'astronomical': 436, 'vacating': 4710, 'wh': 4868, 'jan': 2392, 'cages': 706, 'crook': 1139, 'genuinely': 1912, 'bang': 501, 'umin': 4624, '88': 156, 'mom': 2867, 'sister': 4035, 'kick': 2450, 'scary': 3866, 'meani': 2759, 'tooa': 4493, 'recoverymay': 3606, 'protocols': 3476, 'campus': 721, 'ncaa': 2958, 'violation': 4747, 'omg': 3070, 'videos': 4739, 'laughing': 2517, 'couldve': 1067, 'goes': 1947, 'experience': 1625, 'hearing': 2085, 'naysayers': 2955, 'donethe': 1396, 'visors': 4763, 'competition': 961, 'grossly': 1996, 'communism': 950, 'redeem': 3611, 'takes': 4344, 'special': 4115, 'entitlement': 1539, 'accuse': 208, 'whew': 4880, 'chile': 850, 'ghetto': 1921, 'analogy': 337, 'albertas': 292, '1500': 26, 'ruin': 3805, 'physical': 3275, 'shatter': 3959, 'responsibly': 3721, 'overcrowding': 3134, 'cjoice': 880, 'bwl': 694, 'ig': 2229, 'mots7so': 2899, 'yk': 4994, 'invested': 2350, 'streaming': 4223, 'therules': 4427, 'plus': 3324, 'tenth': 4386, 'onnow': 3078, 'andfvck': 341, 'icannot': 2214, 'xiuminies': 4972, 'projects': 3452, 'til': 4464, 'kyungsoo': 2486, 'doscharge': 1406, 'ealy': 1444, 'wise': 4912, 'suppose': 4290, 'mag': 2689, 'lighthearted': 2583, 'pestilence': 3256, 'mix': 2853, 'suburbandiagnostics': 4252, 'poorly': 3348, 'mumbai': 2915, 'batch': 514, 'input': 2318, '93': 161, 'rs': 3802, '3900': 106, 'commitment': 945, 'patriot': 3206, 'photo': 3270, 'studio': 4240, 'sent': 3926, 'memo': 2781, 'photography': 3272, 'idgafos': 2224, 'dems': 1277, 'sars': 3847, '2003': 50, 'paper': 3173, 'testimony': 4399, 'mn': 2854, 'limit': 2590, 'pussy': 3511, 'vermonts': 4729, 'embraced': 1501, 'dakotas': 1186, 'loudly': 2657, 'opposed': 3093, 'vermont': 4728, '100000': 4, '8000': 147, 'sidney': 4011, 'powell': 3365, 'claiming': 882, 'biblical': 572, 'welcoming': 4854, 'stranger': 4219, 'sacrificing': 3823, 'molochgun': 2866, 'violencecovid': 4750, 'undermine': 4640, 'gain': 1881, 'dim': 1325, 'points': 3333, 'otoh': 3115, 'lnps': 2613, 'opposition': 3094, 'assured': 435, 'byoc': 697, 'replaced': 3672, 'byog': 698, 'packed': 3159, 'region': 3631, 'staffed': 4146, 'shouldnt': 3989, 'exempt': 1612, 'onted': 3081, 'mislead': 2846, 'hiraq': 2121, 'dailyinfo': 1183, 'pioneersofchange': 3291, 'heading': 2071, 'recession': 3592, 'baseline': 510, '753': 143, 'referred': 3617, 'nomorelockdowns': 3006, 'stoked': 4204, 'playoff': 3316, 'constantly': 1010, 'battled': 517, 'grind': 1990, 'coyl': 1113, 'privatizing': 3428, 'color': 929, 'russias': 3816, 'sputnik': 4138, 'sputnikv': 4139, 'coronavirusvaccine': 1054, 'covid19vaccine': 1097, 'attend': 449, 'focused': 1790, 'coronavirusamp': 1053, 'speech': 4119, 'twisting': 4600, 'creating': 1119, 'attachment': 444, 'riddled': 3765, 'uncertainty': 4631, 'liking': 2587, 'lonely': 2633, 'guilt': 2021, 'universities': 4668, 'academics': 197, 'postpandemic': 3363, 'career': 752, 'researchers': 3699, 'ecr': 1464, 'initiative': 2310, 'swinburne': 4324, 'step': 4194, 'direction': 1332, 'legislate': 2549, 'casualisation': 775, 'colleague': 922, 'grips': 1992, 'nothingtraditionalaboutit': 3026, 'strike': 4229, 'organize': 3110, 'picket': 3278, 'hazard': 2066, 'targets': 4353, 'indicated': 2287, 'loan': 2615, 'entered': 1537, 'homebound': 2142, 'meant': 2762, 'persons': 3250, 'disabilities': 1335, 'nincy': 2998, 'wheelchair': 4873, 'user': 4701, '2014': 56, 'wheelchairuser': 4874, 'spinalcordinjury': 4126, 'pwd': 3517, 'data': 1200, 'includes': 2271, 'generational': 1907, 'based': 509, 'upon': 4686, 'unimpeachably': 4662, 'massproduce': 2746, 'pilots': 3287, 'defending': 1252, 'guilds': 2020, 'lowercredentialed': 2664, 'swinney': 4327, 'morning': 2888, 'kroger': 2482, 'doodiegiulianis': 1401, 'andrewgiuliani': 344, 'wearthedamnmask': 4837, '255000': 81, 'pretending': 3406, 'watched': 4821, 'premiere': 3384, 'bull': 675, 'camera': 716, 'tricks': 4552, 'closer': 904, 'greys': 1987, 'anatomy': 339, 'itd': 2374, 'course': 1081, 'smiles': 4058, 'sees': 3906, 'kenney': 2444, 'choosing': 858, 'cdnpoli': 794, 'covid19ab': 1089, 'fatality': 1698, 'inaccurate': 2263, 'identifying': 2222, 'estimate': 1565, '130': 20, 'specific': 4116, 'besties': 563, 'walked': 4790, 'couples': 1080, 'generation': 1906, 'defeat': 1248, 'fascism': 1693, 'pays': 3216, 'toast': 4478, 'unt': 4678, 'traditions': 4521, 'dm': 1376, 'agreed': 270, 'competent': 960, 'mayor': 2754, 'nurse': 3035, 'responses': 3717, 'technically': 4372, 'enlisted': 1530, 'detention': 1304, 'breaking': 638, 'contradict': 1032, 'struggled': 4234, 'economics': 1461, 'helpful': 2102, 'ousts': 3116, 'shell': 3962, 'prob': 3432, 'joining': 2411, 'trumptv': 4573, 'newsmax': 2986, 'sean': 3886, 'spicer': 4124, 'coguest': 917, 'helpamp': 2100, 'referring': 3618, 'electionrewind': 1486, 'driving': 1421, 'afternoon': 261, 'ah': 272, '90s': 159, 'songs': 4088, 'dj': 1374, 'hollywoodand': 2139, 'phil': 3266, 'hartman': 2056, 'floored': 1779, 'harasses': 2051, 'imma': 2243, 'cough': 1063, 'ahhhhhhhhh': 274, 'pre': 3375, 'scripts': 3883, 'goodnight': 1956, 'song': 4087, 'inspires': 2326, 'latino': 2514, 'brunt': 662, 'azul': 487, 'barrientos': 505, 'doitforsa': 1388, 'hazloporsa': 2067, 'lakhanpur': 2492, 'cross': 1143, 'raga': 3543, 'soga': 4074, 'fakeeristan': 1673, '3rd': 108, 'stike': 4199, 'farmer': 1689, 'revoked': 3753, 'wilson': 4898, 'sossion': 4098, 'cent': 802, 'secondary': 3892, 'ksh500': 2483, 'learner': 2537, 'adequate': 228, 'building': 672, 'castles': 774, 'daybreak': 1211, 'version': 4732, 'distilled': 1366, 'beetroot': 536, 'ginger': 1925, 'whilst': 4881, 'vision': 4758, 'yrs': 5005, 'gandhi': 1885, 'thoughtful': 4442, 'visionary': 4759, 'considered': 1005, 'ale': 295, 'stewed': 4197, 'beef': 535, 'stilton': 4201, 'dumplings': 1437, 'classes': 886, 'yegfood': 4987, 'arlington': 401, 'firsthand': 1760, 'accordingly': 205, 'clusters': 908, 'rises': 3775, '16427': 33, 'covid19lk': 1094, 'dn': 1378, 'dailynews': 1184, 'ancl': 340, 'lakehousedigital': 2491, 'lead': 2527, 'drink': 1418, 'contagious': 1022, 'longcovid': 2635, 'highlighting': 2116, 'causality': 780, 'campaignsorganizing': 720, 'incredible': 2280, 'talent': 4346, 'debriefing': 1229, 'programshiring': 3449, 'accessible': 201, 'upcoming': 4681, 'cycles': 1176, 'tms': 4475, 'jinhoos': 2404, 'ultimate': 4620, 'decisioni': 1239, 'flier': 1775, 'miles': 2814, 'fly': 1787, 'fire': 1754, 'newsome': 2988, 'shuts': 4002, 'defensive': 1254, 'stayed': 4179, 'toe': 4482, 'burn': 682, 'ground': 1997, 'treated': 4539, 'returni': 3738, 'fvcking': 1878, 'body': 612, 'battle': 516, 'gt170000': 2009, 'providers': 3483, 'immediate': 2244, 'thanksgiving2020': 4413, 'scheme': 3869, 'copper': 1047, 'twoyear': 4606, 'hopes': 2154, 'commodities': 948, 'metals': 2798, 'investing': 2354, 'exposed': 1640, 'authoritarians': 463, 'opening': 3086, 'commissions': 944, 'kofi': 2474, 'dk': 1375, 'confronted': 992, 'maskless': 2737, 'deadliest': 1215, 'began': 538, '67000': 133, 'respond': 3714, 'notes': 3023, 'playlist': 3315, '242': 74, 'awhile': 482, 'phrase': 3273, 'paris': 3180, 'avenue': 471, 'champselysees': 817, 'france': 1828, 'remains': 3654, 'behaviour': 544, 'edn': 1467, 'prioritization': 3420, 'debate': 1227, 'elderly': 1482, 'competitive': 962, 'nationalism': 2946, 'dust': 1438, 'girl': 1927, 'style': 4246, 'majority': 2702, 'majorities': 2701, 'demographic': 1275, 'fiscal': 1761, 'excessively': 1604, 'unwell': 4680, 'coughed': 1064, 'occasionally': 3047, 'briefly': 648, 'mere': 2790, 'sore': 4096, 'throat': 4453, 'hypothetically': 2208, 'limits': 2592, 'mps': 2906, 'pms': 3329, 'terms': 4389, 'date': 1201, 'asipleased': 424, 'separate': 3928, 'legislature': 2550, 'intertwine': 2343, 'mailin': 2695, 'dickrider': 1315, 'minor': 2830, 'offenses': 3053, 'freethemall': 1837, 'davidgilbert': 1209, 'escalating': 1558, 'nebraskans': 2963, 'pleading': 3319, 'nebraska': 2962, 'impose': 2258, 'masterful': 2747, 'stress': 4226, 'pressure': 3403, 'consideration': 1004, 'forgo': 1813, 'aww': 483, 'teddys': 4375, 'tryin': 4580, 'teddy': 4374, 'guaranteed': 2012, 'reasons': 3585, 'plzz': 3326, 'becoz': 532, 'perennially': 3236, 'hysterical': 2209, 'stats': 4175, 'causes': 783, '2018': 58, '26037': 86, '471': 116, 'equate': 1547, '18': 38, 'capable': 738, 'transforming': 4526, 'enemy': 1522, 'martin': 2730, 'luther': 2675, 'jr': 2420, 'rayjumani': 3565, 'rj': 3780, 'wiseadvice': 4913, 'therainbow': 4422, 'thejourney': 4419, 'myworldview': 2930, 'marathon': 2722, 'wisdom': 4911, 'leaningforlife': 2534, 'growth': 2004, 'mindset': 2824, 'cargo': 756, 'locks': 2629, 'travelers': 4535, 'isolated': 2366, 'quarantined': 3522, 'halloween': 2033, 'ima': 2239, 'cuz': 1173, 'unforgettable': 4653, 'perform': 3237, 'inescapable': 2299, 'realised': 3575, 'peak': 3219, 'retail': 3732, 'shoppers': 3980, 'surprise': 4304, 'councils': 1068, 'convenient': 1039, 'pmlive': 3328, 'difference': 1321, 'illegal': 2234, 'caravan': 745, 'immigrants': 2248, 'miraculously': 2839, 'lied': 2574, 'suggested': 4272, 'inject': 2311, 'disinfectant': 1356, 'pessimistic': 3255, 'musicians': 2922, 'bulk': 674, 'earnings': 1447, 'touring': 4506, 'essentially': 1563, 'eliminated': 1490, 'revenue': 3748, 'stream': 4222, 'benito': 559, 'capitalizing': 743, 'michigan': 2804, 'pennsylvania': 3227, 'certify': 811, 'ascertains': 419, 'picks': 3280, 'cabinet': 704, '762': 144, 'deluxe': 1268, 'edition': 1465, 'review': 3750, 'sensitive': 3925, 'stunning': 4243, 'moncef': 2872, 'slaoui': 4043, 'firefighter': 1756, 'behind': 546, 'widdow': 4890, 'morgue': 2886, 'meantime': 2763, 'treatments': 4542, 'muster': 2926, 'stable': 4143, '200400k': 51, 'child': 847, 'avail': 467, 'license': 2572, 'reproductive': 3682, 'infect': 2300, 'testes': 4397, 'treasury': 4537, 'affairs': 249, 'defence': 1250, 'environment': 1541, 'advisers': 245, 'nah': 2933, 'photographer': 3271, 'filmflam': 1741, 'mins': 2831, 'graphs': 1982, 'goverment': 1964, 'statics': 4172, 'starbucks': 4161, 'gtfo': 2010, 'chapo': 826, 'mexican': 2800, 'dealer': 1219, 'william': 4896, 'zois': 5013, 'senior': 3921, 'faggato': 1663, 'rotten': 3798, 'garbage': 1887, 'organizing': 3111, 'caravans': 746, 'coast': 914, 'mexicans': 2801, 'yorkers': 4997, 'hurt': 2200, 'accept': 199, 'receiving': 3589, 'raises': 3550, 'd1': 1179, 'recruiting': 3607, 'recruits': 3608, 'evaluating': 1575, 'humans': 2193, 'athletes': 440, 'grades': 1973, 'deal': 1218, 'knuckleheads': 2473, 'afueni': 262, 'kwake': 2484, 'uhc': 4617, 'discontinued': 1346, 'father': 1699, 'teenagers': 4376, 'memorable': 2782, 'moms': 2871, 'jokester': 2417, 'madisonarea': 2687, 'youtube': 5002, 'rewinds': 3754, 'sucked': 4261, 'reviewon': 3752, 'album': 293, 'longs': 2637, 'dances': 1192, 'liposomes': 2599, 'microscopic': 2806, 'colloidalspheres': 928, 'drugmolecules': 1427, 'liposomal': 2598, 'delivery': 1266, 'cancertreatment': 730, 'chemotherapy': 842, 'viralvaccines': 4752, 'fungaldisease': 1869, 'tbrc': 4363, 'globalmarketmodel': 1938, 'lights': 2584, 'pictures': 3284, 'waskesui': 4816, 'dmv': 1377, 'caseloads': 769, 'neonatal': 2979, 'pulled': 3496, 'medsurge': 2772, 'joke': 2414, 'drops': 1424, 'fg': 1732, 'calling': 711, 'sample': 3840, 'scare': 3863, 'sociology': 4073, 'studies': 4239, 'participants': 3185, 'beforehand': 537, 'yikes': 4993, 'europeans': 1573, 'smallpox': 4053, 'comes': 934, 'staffing': 4148, 'shortage': 3983, 'oral': 3099, 'surgeon': 4299, 'fee': 1717, 'gross': 1995, 'privileged': 3430, 'wipe': 4908, 'freight': 1839, 'stations': 4174, 'transport': 4531, 'promo': 3457, 'hip': 2120, 'charts': 833, 'snubbed': 4064, 'awards': 478, 'aya': 484, 'presymptomatic': 3404, 'maskon': 2738, 'dheet': 1311, 'ppp': 3369, 'mocking': 2857, 'chup': 867, 'rahi': 3545, 'hay': 2065, 'kay': 2438, 'peechay': 3221, 'shameless': 3950, 'statement': 4168, 'unfortunately': 4654, 'knocking': 2468, 'doors': 1405, 'ashrafiya': 422, 'saudiarabias': 3853, 'salman': 3837, 'bin': 584, 'abzulaziz': 194, 'closing': 905, 'remarks': 3657, 'adopted': 240, 'achieve': 209, 'transcript': 4524, 'synagogue': 4333, 'succeeds': 4256, 'swinger': 4325, 'dodging': 1385, 'brent': 643, 'caught': 779, 'swingers': 4326, 'raid': 3546, 'abe': 177, 'shocked': 3977, 'whiz': 4885, 'colossally': 930, 'incompetent': 2275, 'fmge': 1788, 'wonwe': 4927, 'warand': 4803, 'counts': 1076, 'view': 4740, 'graduates': 1974, 'abrogate': 188, 'augment': 457, 'zombies': 5014, 'gingerdead': 1926, 'ski': 4041, 'lift': 2581, 'windy': 4901, 'joins': 2412, 'nations': 2948, 'borrowing': 624, 'payback': 3211, 'emmys': 1505, 'residents': 3702, 'convincingly': 1042, 'joker': 2415, 'govandi': 1963, 'mumbaiin': 2916, '21': 68, 'gayab': 1897, 'cheated': 835, 'exploited': 1636, 'abates': 176, 'catchup': 778, 'inc': 2267, 'treating': 4540, 'sicker': 4006, 'itll': 2376, 'quebec': 3526, '1154': 11, 'ontario': 3080, '1534': 27, 'whatttttt': 4872, 'tumbling': 4586, 'idc': 2219, 'hypothetical': 2207, 'obama': 3042, 'rollouts': 3791, 'prevention': 3414, 'minseokkk': 2835, 'guarantee': 2011, 'cruz': 1149, 'calgary': 707, 'evidencebased': 1592, 'expertise': 1631, 'healthrelated': 2080, 'tolerated': 4486, 'dieincluding': 1319, 'gender': 1902, 'equality': 1546, 'covidresponse': 1104, 'genderequality': 1903, 'cc': 790, 'sdg5': 3885, 'tf': 4406, 'crush': 1147, 'outbreaks': 3118, 'overwhelmed': 3142, 'volunteer': 4768, 'account': 206, 'volunteered': 4769, '9139866': 160, 'mounts': 2900, '133738': 21, '8562642': 154, 'discharges': 1343, 'lifegoeson': 2578, 'healing': 2075, 'emotions': 1507, 'pretended': 3405, 'chorus': 859, 'bexbts': 569, 'letshealtogether': 2562, 'joint': 2413, 'arsenal': 413, 'chelsea': 841, 'everton': 1582, 'leicester': 2553, 'cbs': 789, 'rb': 3566, 'richarlison': 3760, 'hiago': 2112, 'throw': 4456, 'half': 2031, 'discharging': 1344, 'soooooooo': 4093, 'surreal': 4307, 'crowns': 1145, 'sicken': 4005, 'falsities': 1676, 'pervasive': 3253, 'bewildered': 568, 'subjects': 4247, 'protection': 3471, 'laud': 2515, 'vss365': 4779, 'promise': 3454, 'picnic': 3281, 'italy': 2372, 'planet': 3303, 'overwhelm': 3141, 'unnecessarily': 4673, 'negligence': 2973, 'key': 2448, 'element': 1487, 'storm': 4211, 'crimes': 1130, 'hadnt': 2029, 'selling': 3914, 'spirits': 4128, 'defend': 1251, 'retailer': 3733, 'alongside': 311, 'referendum': 3616, 'ugly': 4616, 'alright': 315, 'moderna': 2860, 'boost': 618, 'counting': 1071, 'oxfordvaccine': 3152, 'lettfer': 2564, 'yeardon': 4983, 'brilliant': 650, 'wide': 4891, 'relate': 3639, 'testers': 4396, 'belt': 555, 'danger': 1193, 'odd': 3049, 'testified': 4398, 'hydroxychloroquine': 2203, 'yup': 5007, 'hcq': 2068, 'architecture': 394, 'shapes': 3954, 'questions': 3529, 'fell': 1725, 'pregnant': 3382, 'kid': 2453, 'october': 3048, 'maam': 2680, 'dangerous': 1194, 'attack': 445, '6ft': 137, 'disabled': 1337, 'fuckn': 1860, 'dare': 1196, 'aint': 281, 'fault': 1703, 'unethical': 4651, 'noise': 3004, 'cuban': 1153, 'cuba': 1152, 'lil': 2588, 'bro': 655, 'baaackk': 489, 'kakaaakk': 2431, 'repeats': 3669, 'clippings': 900, '191819': 41, 'spanish': 4108, 'parallels': 3174, 'backlash': 493, 'british': 654, 'jagatdhatri': 2384, 'puja': 3494, 'inaugration': 2265, 'kolkata': 2475, 'maa': 2679, 'slays': 4045, 'demon': 1276, 'humanity': 2192, 'bleach': 600, 'perhaps': 3241, 'soak': 4065, 'triggered': 4555, 'consumer': 1016, 'behavior': 543, 'intent': 2337, 'retailers': 3734, 'navigate': 2954, 'changing': 824, 'habits': 2028, 'shopper': 3979, 'holidayshopping': 2135, 'brandloyalty': 635, 'torontos': 4501, 'newly': 2984, 'younger': 4999, 'unicef': 4660, 'ship': 3973, 'contain': 1023, 'pure': 3505, 'outquitting': 3127, 'xmas': 4973, 'frightening': 1850, 'waited': 4785, 'patiently': 3204, 'trusting': 4576, 'walker': 4791, 'underground': 4638, 'tunnels': 4590, 'cleared': 892, 'biggie': 579, 'smalls': 4054, 'verse': 4730, 'singing': 4028, 'flower': 1783, 'west': 4863, 'defeated': 1249, 'pundit': 3502, 'discusses': 1350, 'violations': 4748, 'capitalism': 742, 'regime': 3630, 'pathologist': 3202, 'hoax': 2129, 'perpetrated': 3244, 'unsuspecting': 4677, 'virginia': 4753, 'sexy': 3946, 'picture': 3283, 'mothman': 2897, 'statue': 4176, 'pitch': 3292, 'abet': 178, 'criticizes': 1137, 'elementary': 1488, 'bell': 550, 'boss': 625, '1015am': 5, 'naps': 2938, 'academically': 196, 'motivated': 2898, 'semester': 3915, 'causing': 784, 'eyeopening': 1652, 'lasted': 2505, 'boiled': 614, 'dreaming': 1415, 'victims': 4736, 'degree': 1259, 'bizjobs': 594, 'medically': 2769, 'proves': 3480, 'lying': 2677, 'preparedness': 3387, 'delusional': 1267, 'watchoh': 4823, 'stick': 4198, 'vile': 4743, 'elite': 1492, 'cmon': 910, 'asdfghjkl': 420, 'huee': 2186, 'welfare': 4855, 'shorti': 3985, 'facebook': 1654, 'talkingjust': 4350, 'conversationthen': 1040, 'eventually': 1580, 'lockdownsno': 2626, '1385234229': 23, 'reversal': 3749, 'fortune': 1817, 'disconnect': 1345, 'ivory': 2379, 'tower': 4509, 'academic': 195, 'trenches': 4545, 'bar': 503, 'flavor': 1771, 'steadily': 4190, 'justify': 2428, 'panicked': 3171, 'wieners': 4892, 'lankan': 2497, 'maheshi': 2692, 'ramasamy': 3555, 'pioneer': 3290, 'oxford': 3151, 'daughter': 1205, 'similar': 4021, 'stage': 4149, 'dynamite': 1441, 'alternatives': 318, 'unnatural': 4672, 'isolation': 2367, 'systematically': 4336, 'dismantling': 1358, 'modern': 2859, 'civilization': 879, 'contained': 1024, 'quality': 3520, 'endlockdowns': 1519, 'lockdownresistance': 2624, 'buzz': 693, 'junkies': 2425, 'verge': 4727, 'bitches': 592, 'earrings': 1448, 'tht': 4460, 'sew': 3944, 'midnight': 2809, 'snackers': 4060, '86': 155, 'intensivecare': 2336, 'alreadywere': 313, '84': 152, 'mesa': 2793, 'sc': 3861, 'scrambling': 3880, 'shots': 3987, 'rachel': 3538, 'maddow': 2684, 'delivered': 1265, 'emotional': 1506, 'monologue': 2878, 'necessarily': 2964, 'buttoles': 690, 'threw': 4452, 'ate': 438, 'symptom': 4330, 'extra': 1648, 'pleaded': 3318, 'missed': 2849, 'paso': 3193, 'victim': 4735, 'removed': 3663, 'overflowing': 3136, 'prisoner': 3424, 'elected': 1484, 'empathy': 1508, 'easier': 1450, 'misanthrope': 2840, 'noticing': 3027, 'worsthit': 4953, 'descent': 1290, 'mexico': 2802, 'ascent': 418, 'strain': 4216, 'raw': 3564, 'texan': 4402, 'furloughed': 1874, 'attendant': 450, 'begging': 539, 'wrk': 4964}\n",
            "(5016,)\n"
          ]
        }
      ]
    },
    {
      "cell_type": "markdown",
      "source": [
        "#Create a WorldCloud from vectorized training data to show the most prominent words\n"
      ],
      "metadata": {
        "id": "qc7V0yI0tqHR"
      }
    },
    {
      "cell_type": "code",
      "source": [
        "#lets create the wordcloud. \n",
        "#vec_weights = [(word, X_train_vect.getcol(idx).sum()) for word, idx in vect.vocabulary_.items()]\n",
        "#vec_weights[0:5]\n",
        "\n",
        "#freqs = [(word, X_train_vect.getcol(idx).sum()) for word, idx in vect.vocabulary_.items()]\n",
        "#freqs\n",
        "\n",
        "#wcVec = WordCloud(width=800,height=400,background_color='black',max_words=1000,collocations=False).fit_words(dict(freqs))\n",
        "#plt.figure(figsize=(40,30))\n",
        "#plt.imshow(wcVec, interpolation=\"bilinear\")\n",
        "#plt.axis(\"off\")\n",
        "#plt.show()"
      ],
      "metadata": {
        "id": "jNTlKL_qty9D"
      },
      "execution_count": 80,
      "outputs": []
    },
    {
      "cell_type": "markdown",
      "source": [
        "### Count of total records\n",
        "\n"
      ],
      "metadata": {
        "id": "FetjpEzhpHkW"
      }
    },
    {
      "cell_type": "code",
      "source": [
        "\n",
        "\n",
        "counts = dataset.SentimentScore.value_counts()\n",
        "print(counts)"
      ],
      "metadata": {
        "colab": {
          "base_uri": "https://localhost:8080/"
        },
        "id": "AoSAX_owVD-A",
        "outputId": "902e4ca7-2cb7-42cf-f9c4-fa57e7370028"
      },
      "execution_count": 81,
      "outputs": [
        {
          "output_type": "stream",
          "name": "stdout",
          "text": [
            "1    954\n",
            "0    809\n",
            "Name: SentimentScore, dtype: int64\n"
          ]
        }
      ]
    },
    {
      "cell_type": "markdown",
      "source": [
        "\n",
        "### Train records count"
      ],
      "metadata": {
        "id": "Il7XBgVXo7vM"
      }
    },
    {
      "cell_type": "code",
      "source": [
        "\n",
        "\n",
        "uniquetrain, countstrain = np.unique(y_train, return_counts=True)\n",
        "print(list(zip(uniquetrain, countstrain)))"
      ],
      "metadata": {
        "colab": {
          "base_uri": "https://localhost:8080/"
        },
        "id": "Ef2SvdglVFId",
        "outputId": "ca6fb2ee-1096-4892-b6f7-ec304c215bb7"
      },
      "execution_count": 82,
      "outputs": [
        {
          "output_type": "stream",
          "name": "stdout",
          "text": [
            "[(0, 654), (1, 756)]\n"
          ]
        }
      ]
    },
    {
      "cell_type": "markdown",
      "source": [
        "###Test records count"
      ],
      "metadata": {
        "id": "EtUC3yzOo2JU"
      }
    },
    {
      "cell_type": "code",
      "source": [
        "\n",
        "\n",
        "uniquetest, countstest = np.unique(y_test, return_counts=True)\n",
        "print(list(zip(uniquetest, countstest)))"
      ],
      "metadata": {
        "colab": {
          "base_uri": "https://localhost:8080/"
        },
        "id": "TjZLXnLEVE3x",
        "outputId": "5fe4c7b6-838d-4d77-99a7-4eea3dc9d003"
      },
      "execution_count": 83,
      "outputs": [
        {
          "output_type": "stream",
          "name": "stdout",
          "text": [
            "[(0, 155), (1, 198)]\n"
          ]
        }
      ]
    },
    {
      "cell_type": "markdown",
      "source": [
        "#Vectorise the Test data\n",
        "\n",
        "####We need to use our test set in order to get a good estimate of accuracy.\n",
        "\n",
        "####Let's vectorize the test set, then use that test set to predict if each test tweet is either positive or negative. Since we're avoiding any data leakage, we are only transforming, not refitting. \n",
        "\n",
        "\n"
      ],
      "metadata": {
        "id": "VGj9m5Zcogvp"
      }
    },
    {
      "cell_type": "code",
      "source": [
        "\n",
        "\n",
        "X_test_vect = vect.transform(X_test)\n",
        "\n",
        "\n"
      ],
      "metadata": {
        "id": "WMr3art0VO_S"
      },
      "execution_count": 84,
      "outputs": []
    },
    {
      "cell_type": "markdown",
      "source": [
        "#Training the classifier(s) and displaying the evaluation metrics"
      ],
      "metadata": {
        "id": "2vK5XkjnWAgX"
      }
    },
    {
      "cell_type": "code",
      "source": [
        "# Logging for Visual Comparison\n",
        "log_cols=[\"Classifier\", \"Accuracy\", \"F1\", \"Precision\", \"Recall\"]\n",
        "log = pd.DataFrame(columns=log_cols)\n",
        "log2 = pd.DataFrame(columns=log_cols)\n",
        "\n",
        "for clf in classifiers:\n",
        "    clf.fit(X_train_vect, y_train)\n",
        "    name = clf.__class__.__name__\n",
        "    \n",
        "    print(\"=\"*30)\n",
        "    print(\"\")\n",
        "    print(\"Algorithm name {}\".format(name))\n",
        "    print(\"\")\n",
        "    print('****Results****')\n",
        "    train_predictions = clf.predict(X_test_vect)    \n",
        "    cm = confusion_matrix(y_test, train_predictions)\n",
        "\n",
        "    acc_score = accuracy_score(y_test, train_predictions) * 100\n",
        "    f_score = f1_score(y_test, train_predictions) * 100\n",
        "    pr_score = precision_score(y_test, train_predictions) * 100\n",
        "    rc_score = recall_score(y_test, train_predictions) * 100\n",
        "    #print(\"Accuracy: {:.4%}\".format(acc))\n",
        "\n",
        "\n",
        "\n",
        "\n",
        "\n",
        "    \n",
        "    print(\"\")\n",
        "\n",
        "    print(\"Classification report - {} - {} - {} \".format(name,getVecMethod(), getNormMethod()))\n",
        "    print(classification_report(y_test, train_predictions))\n",
        "\n",
        "    print(\"\")\n",
        "\n",
        "    print(\"Metrics report - {} - {} - {} \".format(name,getVecMethod(), getNormMethod()))\n",
        "    print(\"Accuracy: {:.2f}%\".format(acc_score))\n",
        "    print(\"F1 Score: {:.2f}%\".format(f_score))\n",
        "    print(\"Precision Score: {:.2f}%\".format(pr_score))\n",
        "    print(\"Recall Score: {:.2f}%\".format(rc_score))\n",
        "\n",
        "    print(\"\")\n",
        "\n",
        "    print(\"Confusion Matrix:\\n\", cm)\n",
        "\n",
        "    print(\"\")\n",
        "\n",
        "    cm_disp = ConfusionMatrixDisplay(confusion_matrix=cm, display_labels=['Negative','Positive'])\n",
        "    cm_disp.plot(colorbar=False,cmap=plt.cm.Blues)\n",
        "    plt.show()\n",
        "\n",
        "\n",
        "\n",
        "        \n",
        "    #train_predictions_ll = clf.predict_proba(X_test_vect)\n",
        "    #ll = log_loss(y_test, train_predictions_ll)\n",
        "    #print(\"Log Loss: {}\".format(ll))\n",
        "\n",
        "\n",
        "\n",
        "    #acc_score = \"{:.2f}\".format(acc_score)\n",
        "    #f_score = \"{:.2f}\".format(f_score)\n",
        "    #pr_score = \"{:.2f}\".format(pr_score)\n",
        "    #rc_score = \"{:.2f}\".format(rc_score)\n",
        "\n",
        "    log_entry = pd.DataFrame([[name, acc_score, f_score, pr_score, rc_score]], columns=log_cols)\n",
        "    log = log.append(log_entry)\n",
        "\n",
        "\n",
        "    acc_score_f = \"{:.2f}\".format(acc_score)\n",
        "    f_score_f = \"{:.2f}\".format(f_score)\n",
        "    pr_score_f = \"{:.2f}\".format(pr_score)\n",
        "    rc_score_f = \"{:.2f}\".format(rc_score)\n",
        "\n",
        "    log_entry2 = pd.DataFrame([[name, acc_score_f, f_score_f, pr_score_f, rc_score_f]], columns=log_cols)\n",
        "    log2 = log2.append(log_entry2)\n",
        "\n",
        "    print(\"\")\n",
        "    \n",
        "print(\"=\"*30)\n",
        "\n",
        "\n",
        "print(\"\")\n",
        "print(\"\")"
      ],
      "metadata": {
        "colab": {
          "base_uri": "https://localhost:8080/",
          "height": 1000
        },
        "id": "lslLJmYLTbnM",
        "outputId": "7769d7e7-74ee-48fb-96b9-2f042df6b553"
      },
      "execution_count": 85,
      "outputs": [
        {
          "output_type": "stream",
          "name": "stdout",
          "text": [
            "==============================\n",
            "\n",
            "Algorithm name MultinomialNB\n",
            "\n",
            "****Results****\n",
            "\n",
            "Classification report - MultinomialNB - (TF-IDF) - (No normalisation)- (all features) \n",
            "              precision    recall  f1-score   support\n",
            "\n",
            "           0       0.91      0.69      0.78       155\n",
            "           1       0.80      0.94      0.86       198\n",
            "\n",
            "    accuracy                           0.83       353\n",
            "   macro avg       0.85      0.82      0.82       353\n",
            "weighted avg       0.84      0.83      0.83       353\n",
            "\n",
            "\n",
            "Metrics report - MultinomialNB - (TF-IDF) - (No normalisation)- (all features) \n",
            "Accuracy: 83.29%\n",
            "F1 Score: 86.37%\n",
            "Precision Score: 79.57%\n",
            "Recall Score: 94.44%\n",
            "\n",
            "Confusion Matrix:\n",
            " [[107  48]\n",
            " [ 11 187]]\n",
            "\n"
          ]
        },
        {
          "output_type": "display_data",
          "data": {
            "text/plain": [
              "<Figure size 432x288 with 1 Axes>"
            ],
            "image/png": "[encoded data removed]"
          },
          "metadata": {
            "needs_background": "light"
          }
        },
        {
          "output_type": "stream",
          "name": "stdout",
          "text": [
            "\n",
            "==============================\n",
            "\n",
            "Algorithm name LogisticRegression\n",
            "\n",
            "****Results****\n",
            "\n",
            "Classification report - LogisticRegression - (TF-IDF) - (No normalisation)- (all features) \n",
            "              precision    recall  f1-score   support\n",
            "\n",
            "           0       0.98      0.63      0.76       155\n",
            "           1       0.77      0.99      0.87       198\n",
            "\n",
            "    accuracy                           0.83       353\n",
            "   macro avg       0.88      0.81      0.82       353\n",
            "weighted avg       0.86      0.83      0.82       353\n",
            "\n",
            "\n",
            "Metrics report - LogisticRegression - (TF-IDF) - (No normalisation)- (all features) \n",
            "Accuracy: 83.00%\n",
            "F1 Score: 86.73%\n",
            "Precision Score: 77.17%\n",
            "Recall Score: 98.99%\n",
            "\n",
            "Confusion Matrix:\n",
            " [[ 97  58]\n",
            " [  2 196]]\n",
            "\n"
          ]
        },
        {
          "output_type": "display_data",
          "data": {
            "text/plain": [
              "<Figure size 432x288 with 1 Axes>"
            ],
            "image/png": "[encoded data removed]"
          },
          "metadata": {
            "needs_background": "light"
          }
        },
        {
          "output_type": "stream",
          "name": "stdout",
          "text": [
            "\n",
            "==============================\n",
            "\n",
            "Algorithm name SVC\n",
            "\n",
            "****Results****\n",
            "\n",
            "Classification report - SVC - (TF-IDF) - (No normalisation)- (all features) \n",
            "              precision    recall  f1-score   support\n",
            "\n",
            "           0       0.91      0.75      0.83       155\n",
            "           1       0.83      0.94      0.88       198\n",
            "\n",
            "    accuracy                           0.86       353\n",
            "   macro avg       0.87      0.85      0.86       353\n",
            "weighted avg       0.87      0.86      0.86       353\n",
            "\n",
            "\n",
            "Metrics report - SVC - (TF-IDF) - (No normalisation)- (all features) \n",
            "Accuracy: 86.12%\n",
            "F1 Score: 88.42%\n",
            "Precision Score: 83.11%\n",
            "Recall Score: 94.44%\n",
            "\n",
            "Confusion Matrix:\n",
            " [[117  38]\n",
            " [ 11 187]]\n",
            "\n"
          ]
        },
        {
          "output_type": "display_data",
          "data": {
            "text/plain": [
              "<Figure size 432x288 with 1 Axes>"
            ],
            "image/png": "[encoded data removed]"
          },
          "metadata": {
            "needs_background": "light"
          }
        },
        {
          "output_type": "stream",
          "name": "stdout",
          "text": [
            "\n",
            "==============================\n",
            "\n",
            "Algorithm name KNeighborsClassifier\n",
            "\n",
            "****Results****\n",
            "\n",
            "Classification report - KNeighborsClassifier - (TF-IDF) - (No normalisation)- (all features) \n",
            "              precision    recall  f1-score   support\n",
            "\n",
            "           0       0.85      0.75      0.79       155\n",
            "           1       0.82      0.89      0.86       198\n",
            "\n",
            "    accuracy                           0.83       353\n",
            "   macro avg       0.83      0.82      0.82       353\n",
            "weighted avg       0.83      0.83      0.83       353\n",
            "\n",
            "\n",
            "Metrics report - KNeighborsClassifier - (TF-IDF) - (No normalisation)- (all features) \n",
            "Accuracy: 83.00%\n",
            "F1 Score: 85.51%\n",
            "Precision Score: 81.94%\n",
            "Recall Score: 89.39%\n",
            "\n",
            "Confusion Matrix:\n",
            " [[116  39]\n",
            " [ 21 177]]\n",
            "\n"
          ]
        },
        {
          "output_type": "display_data",
          "data": {
            "text/plain": [
              "<Figure size 432x288 with 1 Axes>"
            ],
            "image/png": "[encoded data removed]"
          },
          "metadata": {
            "needs_background": "light"
          }
        },
        {
          "output_type": "stream",
          "name": "stdout",
          "text": [
            "\n",
            "==============================\n",
            "\n",
            "Algorithm name DecisionTreeClassifier\n",
            "\n",
            "****Results****\n",
            "\n",
            "Classification report - DecisionTreeClassifier - (TF-IDF) - (No normalisation)- (all features) \n",
            "              precision    recall  f1-score   support\n",
            "\n",
            "           0       0.78      0.77      0.78       155\n",
            "           1       0.82      0.83      0.83       198\n",
            "\n",
            "    accuracy                           0.80       353\n",
            "   macro avg       0.80      0.80      0.80       353\n",
            "weighted avg       0.80      0.80      0.80       353\n",
            "\n",
            "\n",
            "Metrics report - DecisionTreeClassifier - (TF-IDF) - (No normalisation)- (all features) \n",
            "Accuracy: 80.45%\n",
            "F1 Score: 82.71%\n",
            "Precision Score: 82.09%\n",
            "Recall Score: 83.33%\n",
            "\n",
            "Confusion Matrix:\n",
            " [[119  36]\n",
            " [ 33 165]]\n",
            "\n"
          ]
        },
        {
          "output_type": "display_data",
          "data": {
            "text/plain": [
              "<Figure size 432x288 with 1 Axes>"
            ],
            "image/png": "[encoded data removed]"
          },
          "metadata": {
            "needs_background": "light"
          }
        },
        {
          "output_type": "stream",
          "name": "stdout",
          "text": [
            "\n",
            "==============================\n",
            "\n",
            "\n"
          ]
        }
      ]
    },
    {
      "cell_type": "markdown",
      "source": [
        "#Report all metrics in a table"
      ],
      "metadata": {
        "id": "kh4PJR-ITsF7"
      }
    },
    {
      "cell_type": "code",
      "source": [
        "\n",
        "header_text_table = \"Classifier(s) performance - {} - {} \".format(getVecMethod(), getNormMethod())\n",
        "print(header_text_table)\n",
        "#print(\"_\"*len(header_text_table))\n",
        "#log\n",
        "\n",
        "\n",
        "print(\"_\"*len(header_text_table))\n",
        "log2"
      ],
      "metadata": {
        "id": "q_RbNnzTNv5Q",
        "colab": {
          "base_uri": "https://localhost:8080/",
          "height": 241
        },
        "outputId": "1f1826cc-775e-406e-98a5-625400c2d800"
      },
      "execution_count": 86,
      "outputs": [
        {
          "output_type": "stream",
          "name": "stdout",
          "text": [
            "Classifier(s) performance - (TF-IDF) - (No normalisation)- (all features) \n",
            "__________________________________________________________________________\n"
          ]
        },
        {
          "output_type": "execute_result",
          "data": {
            "text/plain": [
              "               Classifier Accuracy     F1 Precision Recall\n",
              "0           MultinomialNB    83.29  86.37     79.57  94.44\n",
              "0      LogisticRegression    83.00  86.73     77.17  98.99\n",
              "0                     SVC    86.12  88.42     83.11  94.44\n",
              "0    KNeighborsClassifier    83.00  85.51     81.94  89.39\n",
              "0  DecisionTreeClassifier    80.45  82.71     82.09  83.33"
            ],
            "text/html": [
              "\n",
              "  <div id=\"df-5b505744-6bdd-4db1-ae7a-088c12867cdf\">\n",
              "    <div class=\"colab-df-container\">\n",
              "      <div>\n",
              "<style scoped>\n",
              "    .dataframe tbody tr th:only-of-type {\n",
              "        vertical-align: middle;\n",
              "    }\n",
              "\n",
              "    .dataframe tbody tr th {\n",
              "        vertical-align: top;\n",
              "    }\n",
              "\n",
              "    .dataframe thead th {\n",
              "        text-align: right;\n",
              "    }\n",
              "</style>\n",
              "<table border=\"1\" class=\"dataframe\">\n",
              "  <thead>\n",
              "    <tr style=\"text-align: right;\">\n",
              "      <th></th>\n",
              "      <th>Classifier</th>\n",
              "      <th>Accuracy</th>\n",
              "      <th>F1</th>\n",
              "      <th>Precision</th>\n",
              "      <th>Recall</th>\n",
              "    </tr>\n",
              "  </thead>\n",
              "  <tbody>\n",
              "    <tr>\n",
              "      <th>0</th>\n",
              "      <td>MultinomialNB</td>\n",
              "      <td>83.29</td>\n",
              "      <td>86.37</td>\n",
              "      <td>79.57</td>\n",
              "      <td>94.44</td>\n",
              "    </tr>\n",
              "    <tr>\n",
              "      <th>0</th>\n",
              "      <td>LogisticRegression</td>\n",
              "      <td>83.00</td>\n",
              "      <td>86.73</td>\n",
              "      <td>77.17</td>\n",
              "      <td>98.99</td>\n",
              "    </tr>\n",
              "    <tr>\n",
              "      <th>0</th>\n",
              "      <td>SVC</td>\n",
              "      <td>86.12</td>\n",
              "      <td>88.42</td>\n",
              "      <td>83.11</td>\n",
              "      <td>94.44</td>\n",
              "    </tr>\n",
              "    <tr>\n",
              "      <th>0</th>\n",
              "      <td>KNeighborsClassifier</td>\n",
              "      <td>83.00</td>\n",
              "      <td>85.51</td>\n",
              "      <td>81.94</td>\n",
              "      <td>89.39</td>\n",
              "    </tr>\n",
              "    <tr>\n",
              "      <th>0</th>\n",
              "      <td>DecisionTreeClassifier</td>\n",
              "      <td>80.45</td>\n",
              "      <td>82.71</td>\n",
              "      <td>82.09</td>\n",
              "      <td>83.33</td>\n",
              "    </tr>\n",
              "  </tbody>\n",
              "</table>\n",
              "</div>\n",
              "      <button class=\"colab-df-convert\" onclick=\"convertToInteractive('df-5b505744-6bdd-4db1-ae7a-088c12867cdf')\"\n",
              "              title=\"Convert this dataframe to an interactive table.\"\n",
              "              style=\"display:none;\">\n",
              "        \n",
              "  <svg xmlns=\"http://www.w3.org/2000/svg\" height=\"24px\"viewBox=\"0 0 24 24\"\n",
              "       width=\"24px\">\n",
              "    <path d=\"M0 0h24v24H0V0z\" fill=\"none\"/>\n",
              "    <path d=\"M18.56 5.44l.94 2.06.94-2.06 2.06-.94-2.06-.94-.94-2.06-.94 2.06-2.06.94zm-11 1L8.5 8.5l.94-2.06 2.06-.94-2.06-.94L8.5 2.5l-.94 2.06-2.06.94zm10 10l.94 2.06.94-2.06 2.06-.94-2.06-.94-.94-2.06-.94 2.06-2.06.94z\"/><path d=\"M17.41 7.96l-1.37-1.37c-.4-.4-.92-.59-1.43-.59-.52 0-1.04.2-1.43.59L10.3 9.45l-7.72 7.72c-.78.78-.78 2.05 0 2.83L4 21.41c.39.39.9.59 1.41.59.51 0 1.02-.2 1.41-.59l7.78-7.78 2.81-2.81c.8-.78.8-2.07 0-2.86zM5.41 20L4 18.59l7.72-7.72 1.47 1.35L5.41 20z\"/>\n",
              "  </svg>\n",
              "      </button>\n",
              "      \n",
              "  <style>\n",
              "    .colab-df-container {\n",
              "      display:flex;\n",
              "      flex-wrap:wrap;\n",
              "      gap: 12px;\n",
              "    }\n",
              "\n",
              "    .colab-df-convert {\n",
              "      background-color: #E8F0FE;\n",
              "      border: none;\n",
              "      border-radius: 50%;\n",
              "      cursor: pointer;\n",
              "      display: none;\n",
              "      fill: #1967D2;\n",
              "      height: 32px;\n",
              "      padding: 0 0 0 0;\n",
              "      width: 32px;\n",
              "    }\n",
              "\n",
              "    .colab-df-convert:hover {\n",
              "      background-color: #E2EBFA;\n",
              "      box-shadow: 0px 1px 2px rgba(60, 64, 67, 0.3), 0px 1px 3px 1px rgba(60, 64, 67, 0.15);\n",
              "      fill: #174EA6;\n",
              "    }\n",
              "\n",
              "    [theme=dark] .colab-df-convert {\n",
              "      background-color: #3B4455;\n",
              "      fill: #D2E3FC;\n",
              "    }\n",
              "\n",
              "    [theme=dark] .colab-df-convert:hover {\n",
              "      background-color: #434B5C;\n",
              "      box-shadow: 0px 1px 3px 1px rgba(0, 0, 0, 0.15);\n",
              "      filter: drop-shadow(0px 1px 2px rgba(0, 0, 0, 0.3));\n",
              "      fill: #FFFFFF;\n",
              "    }\n",
              "  </style>\n",
              "\n",
              "      <script>\n",
              "        const buttonEl =\n",
              "          document.querySelector('#df-5b505744-6bdd-4db1-ae7a-088c12867cdf button.colab-df-convert');\n",
              "        buttonEl.style.display =\n",
              "          google.colab.kernel.accessAllowed ? 'block' : 'none';\n",
              "\n",
              "        async function convertToInteractive(key) {\n",
              "          const element = document.querySelector('#df-5b505744-6bdd-4db1-ae7a-088c12867cdf');\n",
              "          const dataTable =\n",
              "            await google.colab.kernel.invokeFunction('convertToInteractive',\n",
              "                                                     [key], {});\n",
              "          if (!dataTable) return;\n",
              "\n",
              "          const docLinkHtml = 'Like what you see? Visit the ' +\n",
              "            '<a target=\"_blank\" href=https://colab.research.google.com/notebooks/data_table.ipynb>data table notebook</a>'\n",
              "            + ' to learn more about interactive tables.';\n",
              "          element.innerHTML = '';\n",
              "          dataTable['output_type'] = 'display_data';\n",
              "          await google.colab.output.renderOutput(dataTable, element);\n",
              "          const docLink = document.createElement('div');\n",
              "          docLink.innerHTML = docLinkHtml;\n",
              "          element.appendChild(docLink);\n",
              "        }\n",
              "      </script>\n",
              "    </div>\n",
              "  </div>\n",
              "  "
            ]
          },
          "metadata": {},
          "execution_count": 86
        }
      ]
    },
    {
      "cell_type": "code",
      "source": [
        "log"
      ],
      "metadata": {
        "id": "A2K_Bdi97n8t",
        "colab": {
          "base_uri": "https://localhost:8080/",
          "height": 206
        },
        "outputId": "2e24f0f1-900c-40b3-8777-203a3ac626b0"
      },
      "execution_count": 87,
      "outputs": [
        {
          "output_type": "execute_result",
          "data": {
            "text/plain": [
              "               Classifier   Accuracy         F1  Precision     Recall\n",
              "0           MultinomialNB  83.286119  86.374134  79.574468  94.444444\n",
              "0      LogisticRegression  83.002833  86.725664  77.165354  98.989899\n",
              "0                     SVC  86.118980  88.416076  83.111111  94.444444\n",
              "0    KNeighborsClassifier  83.002833  85.507246  81.944444  89.393939\n",
              "0  DecisionTreeClassifier  80.453258  82.706767  82.089552  83.333333"
            ],
            "text/html": [
              "\n",
              "  <div id=\"df-5cac54db-fb04-4a7f-981d-eb6c5c97f684\">\n",
              "    <div class=\"colab-df-container\">\n",
              "      <div>\n",
              "<style scoped>\n",
              "    .dataframe tbody tr th:only-of-type {\n",
              "        vertical-align: middle;\n",
              "    }\n",
              "\n",
              "    .dataframe tbody tr th {\n",
              "        vertical-align: top;\n",
              "    }\n",
              "\n",
              "    .dataframe thead th {\n",
              "        text-align: right;\n",
              "    }\n",
              "</style>\n",
              "<table border=\"1\" class=\"dataframe\">\n",
              "  <thead>\n",
              "    <tr style=\"text-align: right;\">\n",
              "      <th></th>\n",
              "      <th>Classifier</th>\n",
              "      <th>Accuracy</th>\n",
              "      <th>F1</th>\n",
              "      <th>Precision</th>\n",
              "      <th>Recall</th>\n",
              "    </tr>\n",
              "  </thead>\n",
              "  <tbody>\n",
              "    <tr>\n",
              "      <th>0</th>\n",
              "      <td>MultinomialNB</td>\n",
              "      <td>83.286119</td>\n",
              "      <td>86.374134</td>\n",
              "      <td>79.574468</td>\n",
              "      <td>94.444444</td>\n",
              "    </tr>\n",
              "    <tr>\n",
              "      <th>0</th>\n",
              "      <td>LogisticRegression</td>\n",
              "      <td>83.002833</td>\n",
              "      <td>86.725664</td>\n",
              "      <td>77.165354</td>\n",
              "      <td>98.989899</td>\n",
              "    </tr>\n",
              "    <tr>\n",
              "      <th>0</th>\n",
              "      <td>SVC</td>\n",
              "      <td>86.118980</td>\n",
              "      <td>88.416076</td>\n",
              "      <td>83.111111</td>\n",
              "      <td>94.444444</td>\n",
              "    </tr>\n",
              "    <tr>\n",
              "      <th>0</th>\n",
              "      <td>KNeighborsClassifier</td>\n",
              "      <td>83.002833</td>\n",
              "      <td>85.507246</td>\n",
              "      <td>81.944444</td>\n",
              "      <td>89.393939</td>\n",
              "    </tr>\n",
              "    <tr>\n",
              "      <th>0</th>\n",
              "      <td>DecisionTreeClassifier</td>\n",
              "      <td>80.453258</td>\n",
              "      <td>82.706767</td>\n",
              "      <td>82.089552</td>\n",
              "      <td>83.333333</td>\n",
              "    </tr>\n",
              "  </tbody>\n",
              "</table>\n",
              "</div>\n",
              "      <button class=\"colab-df-convert\" onclick=\"convertToInteractive('df-5cac54db-fb04-4a7f-981d-eb6c5c97f684')\"\n",
              "              title=\"Convert this dataframe to an interactive table.\"\n",
              "              style=\"display:none;\">\n",
              "        \n",
              "  <svg xmlns=\"http://www.w3.org/2000/svg\" height=\"24px\"viewBox=\"0 0 24 24\"\n",
              "       width=\"24px\">\n",
              "    <path d=\"M0 0h24v24H0V0z\" fill=\"none\"/>\n",
              "    <path d=\"M18.56 5.44l.94 2.06.94-2.06 2.06-.94-2.06-.94-.94-2.06-.94 2.06-2.06.94zm-11 1L8.5 8.5l.94-2.06 2.06-.94-2.06-.94L8.5 2.5l-.94 2.06-2.06.94zm10 10l.94 2.06.94-2.06 2.06-.94-2.06-.94-.94-2.06-.94 2.06-2.06.94z\"/><path d=\"M17.41 7.96l-1.37-1.37c-.4-.4-.92-.59-1.43-.59-.52 0-1.04.2-1.43.59L10.3 9.45l-7.72 7.72c-.78.78-.78 2.05 0 2.83L4 21.41c.39.39.9.59 1.41.59.51 0 1.02-.2 1.41-.59l7.78-7.78 2.81-2.81c.8-.78.8-2.07 0-2.86zM5.41 20L4 18.59l7.72-7.72 1.47 1.35L5.41 20z\"/>\n",
              "  </svg>\n",
              "      </button>\n",
              "      \n",
              "  <style>\n",
              "    .colab-df-container {\n",
              "      display:flex;\n",
              "      flex-wrap:wrap;\n",
              "      gap: 12px;\n",
              "    }\n",
              "\n",
              "    .colab-df-convert {\n",
              "      background-color: #E8F0FE;\n",
              "      border: none;\n",
              "      border-radius: 50%;\n",
              "      cursor: pointer;\n",
              "      display: none;\n",
              "      fill: #1967D2;\n",
              "      height: 32px;\n",
              "      padding: 0 0 0 0;\n",
              "      width: 32px;\n",
              "    }\n",
              "\n",
              "    .colab-df-convert:hover {\n",
              "      background-color: #E2EBFA;\n",
              "      box-shadow: 0px 1px 2px rgba(60, 64, 67, 0.3), 0px 1px 3px 1px rgba(60, 64, 67, 0.15);\n",
              "      fill: #174EA6;\n",
              "    }\n",
              "\n",
              "    [theme=dark] .colab-df-convert {\n",
              "      background-color: #3B4455;\n",
              "      fill: #D2E3FC;\n",
              "    }\n",
              "\n",
              "    [theme=dark] .colab-df-convert:hover {\n",
              "      background-color: #434B5C;\n",
              "      box-shadow: 0px 1px 3px 1px rgba(0, 0, 0, 0.15);\n",
              "      filter: drop-shadow(0px 1px 2px rgba(0, 0, 0, 0.3));\n",
              "      fill: #FFFFFF;\n",
              "    }\n",
              "  </style>\n",
              "\n",
              "      <script>\n",
              "        const buttonEl =\n",
              "          document.querySelector('#df-5cac54db-fb04-4a7f-981d-eb6c5c97f684 button.colab-df-convert');\n",
              "        buttonEl.style.display =\n",
              "          google.colab.kernel.accessAllowed ? 'block' : 'none';\n",
              "\n",
              "        async function convertToInteractive(key) {\n",
              "          const element = document.querySelector('#df-5cac54db-fb04-4a7f-981d-eb6c5c97f684');\n",
              "          const dataTable =\n",
              "            await google.colab.kernel.invokeFunction('convertToInteractive',\n",
              "                                                     [key], {});\n",
              "          if (!dataTable) return;\n",
              "\n",
              "          const docLinkHtml = 'Like what you see? Visit the ' +\n",
              "            '<a target=\"_blank\" href=https://colab.research.google.com/notebooks/data_table.ipynb>data table notebook</a>'\n",
              "            + ' to learn more about interactive tables.';\n",
              "          element.innerHTML = '';\n",
              "          dataTable['output_type'] = 'display_data';\n",
              "          await google.colab.output.renderOutput(dataTable, element);\n",
              "          const docLink = document.createElement('div');\n",
              "          docLink.innerHTML = docLinkHtml;\n",
              "          element.appendChild(docLink);\n",
              "        }\n",
              "      </script>\n",
              "    </div>\n",
              "  </div>\n",
              "  "
            ]
          },
          "metadata": {},
          "execution_count": 87
        }
      ]
    },
    {
      "cell_type": "code",
      "source": [
        "\n",
        "\n",
        "\n",
        "# plot a bar chart\n",
        "sns.set_theme(style=\"whitegrid\")\n",
        "sns.barplot(\n",
        "    y=\"Classifier\", \n",
        "    x=\"Accuracy\",\n",
        "    data=log, \n",
        "    estimator=sum, \n",
        "    ci=None);\n",
        "\n"
      ],
      "metadata": {
        "id": "7ipLnSc-shKV",
        "colab": {
          "base_uri": "https://localhost:8080/",
          "height": 285
        },
        "outputId": "604ad747-68c8-4fa3-9bc2-d48b1d65b75d"
      },
      "execution_count": 88,
      "outputs": [
        {
          "output_type": "display_data",
          "data": {
            "text/plain": [
              "<Figure size 432x288 with 1 Axes>"
            ],
            "image/png": "[encoded data removed]"
          },
          "metadata": {}
        }
      ]
    },
    {
      "cell_type": "code",
      "source": [
        "sns.barplot(\n",
        "    y=\"Classifier\", \n",
        "    x=\"F1\", \n",
        "    data=log, \n",
        "    estimator=sum, \n",
        "    ci=None);"
      ],
      "metadata": {
        "id": "raMZxnvfzT95",
        "colab": {
          "base_uri": "https://localhost:8080/",
          "height": 285
        },
        "outputId": "a4d3c742-5995-460e-cef6-dfeb302da1c7"
      },
      "execution_count": 89,
      "outputs": [
        {
          "output_type": "display_data",
          "data": {
            "text/plain": [
              "<Figure size 432x288 with 1 Axes>"
            ],
            "image/png": "[encoded data removed]"
          },
          "metadata": {}
        }
      ]
    }
  ]
}